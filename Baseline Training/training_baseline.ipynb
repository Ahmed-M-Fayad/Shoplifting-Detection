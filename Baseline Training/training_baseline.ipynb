{
  "nbformat": 4,
  "nbformat_minor": 0,
  "metadata": {
    "colab": {
      "provenance": [],
      "gpuType": "T4"
    },
    "kernelspec": {
      "name": "python3",
      "display_name": "Python 3"
    },
    "language_info": {
      "name": "python"
    },
    "accelerator": "GPU"
  },
  "cells": [
    {
      "cell_type": "markdown",
      "source": [
        "# Shoplifting Detection- Baseline"
      ],
      "metadata": {
        "id": "LTuz7WkKAaJE"
      }
    },
    {
      "cell_type": "markdown",
      "source": [
        "This notebook implements a video-based shoplifting detection system using ResNet50 for feature extraction and GRU for sequence modeling."
      ],
      "metadata": {
        "id": "H7zVY9u_AdmZ"
      }
    },
    {
      "cell_type": "markdown",
      "source": [
        "---"
      ],
      "metadata": {
        "id": "R-8r2hLdAggW"
      }
    },
    {
      "cell_type": "markdown",
      "source": [
        "## 1. Google Colab Setup and Imports"
      ],
      "metadata": {
        "id": "73lkHX9_AhLV"
      }
    },
    {
      "cell_type": "code",
      "execution_count": 2,
      "metadata": {
        "colab": {
          "base_uri": "https://localhost:8080/"
        },
        "id": "jZyFhgLNASOf",
        "outputId": "45fb3320-0515-4a73-b736-a215bff38f42"
      },
      "outputs": [
        {
          "output_type": "stream",
          "name": "stdout",
          "text": [
            "Mounted at /content/drive\n"
          ]
        }
      ],
      "source": [
        "# Mount Google Drive\n",
        "from google.colab import drive\n",
        "drive.mount('/content/drive')"
      ]
    },
    {
      "cell_type": "code",
      "source": [
        "# Standard imports\n",
        "import numpy as np\n",
        "import pandas as pd\n",
        "import matplotlib.pyplot as plt\n",
        "import os\n",
        "import cv2\n",
        "import zipfile\n",
        "import pickle\n",
        "import random\n",
        "import gc\n",
        "from sklearn.model_selection import train_test_split\n",
        "from sklearn.preprocessing import MinMaxScaler"
      ],
      "metadata": {
        "id": "OI4VaDtoFbLh"
      },
      "execution_count": 3,
      "outputs": []
    },
    {
      "cell_type": "code",
      "source": [
        "import tensorflow as tf\n",
        "import keras\n",
        "from keras.layers import (GlobalAveragePooling2D, Input, Add, Dense,\n",
        "                         Activation, ZeroPadding2D, Flatten, Conv2D,\n",
        "                         AveragePooling2D, MaxPooling2D, GlobalMaxPooling2D,\n",
        "                         Dropout, BatchNormalization, Lambda, GRU)\n",
        "from tensorflow.keras.models import Model, load_model\n",
        "from tensorflow.keras.initializers import random_uniform, glorot_uniform, constant, identity\n",
        "\n",
        "print(\"TensorFlow version:\", tf.__version__)\n",
        "print(\"Keras version:\", keras.__version__)"
      ],
      "metadata": {
        "colab": {
          "base_uri": "https://localhost:8080/"
        },
        "id": "t2zybdgeAp8A",
        "outputId": "5ae89c82-2808-4815-90b2-6b311535d66b"
      },
      "execution_count": 4,
      "outputs": [
        {
          "output_type": "stream",
          "name": "stdout",
          "text": [
            "TensorFlow version: 2.19.0\n",
            "Keras version: 3.10.0\n"
          ]
        }
      ]
    },
    {
      "cell_type": "code",
      "source": [
        "# Set random seeds for reproducibility\n",
        "np.random.seed(42)\n",
        "tf.random.set_seed(42)\n",
        "random.seed(42)"
      ],
      "metadata": {
        "id": "rEVDXQPmAu1l"
      },
      "execution_count": 5,
      "outputs": []
    },
    {
      "cell_type": "code",
      "source": [
        "# GPU configuration for Colab\n",
        "try:\n",
        "    # Enable GPU if available\n",
        "    physical_devices = tf.config.list_physical_devices('GPU')\n",
        "    if len(physical_devices) > 0:\n",
        "        tf.config.experimental.set_memory_growth(physical_devices[0], True)\n",
        "        print(\"✅ GPU found and configured\")\n",
        "        print(f\"GPU: {tf.test.gpu_device_name()}\")\n",
        "    else:\n",
        "        print(\"⚠️  No GPU found, using CPU\")\n",
        "except:\n",
        "    print(\"⚠️  Using CPU\")"
      ],
      "metadata": {
        "colab": {
          "base_uri": "https://localhost:8080/"
        },
        "id": "Oj1BlchKAxJj",
        "outputId": "495c7e31-c04c-4d7f-c860-03a2a6edd7e2"
      },
      "execution_count": 6,
      "outputs": [
        {
          "output_type": "stream",
          "name": "stdout",
          "text": [
            "✅ GPU found and configured\n",
            "GPU: /device:GPU:0\n"
          ]
        }
      ]
    },
    {
      "cell_type": "code",
      "source": [
        "# Check available RAM\n",
        "import psutil\n",
        "ram_gb = psutil.virtual_memory().total / (1024**3)\n",
        "print(f\"💾 Available RAM: {ram_gb:.1f} GB\")"
      ],
      "metadata": {
        "colab": {
          "base_uri": "https://localhost:8080/"
        },
        "id": "eWDncGXxCQnC",
        "outputId": "99f63f65-4115-4edd-ca37-d9f34d92edf5"
      },
      "execution_count": 7,
      "outputs": [
        {
          "output_type": "stream",
          "name": "stdout",
          "text": [
            "💾 Available RAM: 12.7 GB\n"
          ]
        }
      ]
    },
    {
      "cell_type": "markdown",
      "source": [
        "---"
      ],
      "metadata": {
        "id": "3OPRQc47A1JB"
      }
    },
    {
      "cell_type": "markdown",
      "source": [
        "## 2. Google Drive Paths and Configuration"
      ],
      "metadata": {
        "id": "xDtstDViCRiy"
      }
    },
    {
      "cell_type": "code",
      "source": [
        "# Google Drive paths configuration\n",
        "DRIVE_BASE = \"/content/drive/MyDrive\"\n",
        "DATASETS_DIR = os.path.join(DRIVE_BASE, \"Datasets\")\n",
        "EXTRACTED_DIR = os.path.join(DATASETS_DIR, \"Extracted Data\")"
      ],
      "metadata": {
        "id": "DztnQm2SA1d1"
      },
      "execution_count": 8,
      "outputs": []
    },
    {
      "cell_type": "code",
      "source": [
        "# Create directories if they don't exist\n",
        "os.makedirs(DATASETS_DIR, exist_ok=True)\n",
        "os.makedirs(EXTRACTED_DIR, exist_ok=True)"
      ],
      "metadata": {
        "id": "XB5kaqUoCYTo"
      },
      "execution_count": 9,
      "outputs": []
    },
    {
      "cell_type": "code",
      "source": [
        "# Your dataset zip file path (UPDATE THIS!)\n",
        "DATASET_ZIP_PATH = os.path.join(DATASETS_DIR, \"Shop DataSet.zip\")  # Change this to your zip file name"
      ],
      "metadata": {
        "id": "3wDoxYY7CaFG"
      },
      "execution_count": 10,
      "outputs": []
    },
    {
      "cell_type": "code",
      "source": [
        "# Extracted dataset paths\n",
        "DATASET_NAME = \"Shop DataSet\"  # Name of your dataset folder after extraction\n",
        "DATASET_PATH = os.path.join(EXTRACTED_DIR, DATASET_NAME)"
      ],
      "metadata": {
        "id": "EGUchAx0Cby1"
      },
      "execution_count": 11,
      "outputs": []
    },
    {
      "cell_type": "code",
      "source": [
        "# Model configuration - Optimized for Colab\n",
        "IMG_SIZE = 224\n",
        "BATCH_SIZE = 16  # Reduced for Colab memory limits\n",
        "EPOCHS = 50      # Reduced for faster training in Colab\n",
        "MAX_SEQ_LENGTH = 20\n",
        "NUM_FEATURES = 2048\n",
        "FEATURE_BATCH_SIZE = 8  # Small batches for feature extraction to avoid memory issues\n",
        "\n",
        "print(f\"📁 Google Drive base: {DRIVE_BASE}\")\n",
        "print(f\"📁 Datasets directory: {DATASETS_DIR}\")\n",
        "print(f\"📁 Dataset will be extracted to: {DATASET_PATH}\")\n",
        "print(f\"📁 Looking for zip file at: {DATASET_ZIP_PATH}\")"
      ],
      "metadata": {
        "colab": {
          "base_uri": "https://localhost:8080/"
        },
        "id": "6enAN8kECeQ7",
        "outputId": "efd96c6b-9168-4546-9e93-6b9ef3249c02"
      },
      "execution_count": 12,
      "outputs": [
        {
          "output_type": "stream",
          "name": "stdout",
          "text": [
            "📁 Google Drive base: /content/drive/MyDrive\n",
            "📁 Datasets directory: /content/drive/MyDrive/Datasets\n",
            "📁 Dataset will be extracted to: /content/drive/MyDrive/Datasets/Extracted Data/Shop DataSet\n",
            "📁 Looking for zip file at: /content/drive/MyDrive/Datasets/Shop DataSet.zip\n"
          ]
        }
      ]
    },
    {
      "cell_type": "code",
      "source": [
        "# Check if Google Drive is mounted\n",
        "if os.path.exists(DRIVE_BASE):\n",
        "    print(\"✅ Google Drive mounted successfully\")\n",
        "else:\n",
        "    print(\"❌ Google Drive not mounted. Please run drive.mount() first.\")"
      ],
      "metadata": {
        "colab": {
          "base_uri": "https://localhost:8080/"
        },
        "id": "9HYAGjkkCgN3",
        "outputId": "d59b7bac-c94a-4781-a79b-6398d3985dc5"
      },
      "execution_count": 13,
      "outputs": [
        {
          "output_type": "stream",
          "name": "stdout",
          "text": [
            "✅ Google Drive mounted successfully\n"
          ]
        }
      ]
    },
    {
      "cell_type": "markdown",
      "source": [
        "---"
      ],
      "metadata": {
        "id": "OdfS9w8aCpNq"
      }
    },
    {
      "cell_type": "markdown",
      "source": [
        "## 3. Data Extraction and Setup"
      ],
      "metadata": {
        "id": "2OU9PcmJCsZ9"
      }
    },
    {
      "cell_type": "code",
      "source": [
        "def extract_dataset_from_drive(zip_path, extract_to):\n",
        "    \"\"\"Extract dataset from Google Drive zip file\"\"\"\n",
        "    if not os.path.exists(zip_path):\n",
        "        print(f\"❌ Zip file not found at: {zip_path}\")\n",
        "        print(\"\\n📋 To upload your dataset:\")\n",
        "        print(\"1. Go to Google Drive\")\n",
        "        print(\"2. Navigate to MyDrive/Datasets/\")\n",
        "        print(\"3. Upload your dataset zip file\")\n",
        "        print(\"4. Update DATASET_ZIP_PATH variable with the correct filename\")\n",
        "        return False\n",
        "\n",
        "    print(f\"📦 Extracting dataset from: {zip_path}\")\n",
        "\n",
        "    try:\n",
        "        with zipfile.ZipFile(zip_path, 'r') as zip_ref:\n",
        "            # List contents first\n",
        "            file_list = zip_ref.namelist()\n",
        "            print(f\"📄 Found {len(file_list)} files in zip\")\n",
        "\n",
        "            # Extract all files\n",
        "            zip_ref.extractall(extract_to)\n",
        "            print(f\"✅ Dataset extracted to: {extract_to}\")\n",
        "            return True\n",
        "    except Exception as e:\n",
        "        print(f\"❌ Error extracting dataset: {e}\")\n",
        "        return False"
      ],
      "metadata": {
        "id": "fg9hLqhJCpjs"
      },
      "execution_count": 14,
      "outputs": []
    },
    {
      "cell_type": "code",
      "source": [
        "def setup_dataset_structure():\n",
        "    \"\"\"Setup and validate dataset structure\"\"\"\n",
        "\n",
        "    # Check if already extracted\n",
        "    if os.path.exists(DATASET_PATH):\n",
        "        print(f\"✅ Dataset already extracted at: {DATASET_PATH}\")\n",
        "    else:\n",
        "        # Try to extract\n",
        "        if not extract_dataset_from_drive(DATASET_ZIP_PATH, EXTRACTED_DIR):\n",
        "            return False\n",
        "\n",
        "    # Validate structure\n",
        "    if not os.path.exists(DATASET_PATH):\n",
        "        print(f\"❌ Dataset folder not found: {DATASET_PATH}\")\n",
        "        print(\"Please check your zip file structure. Expected folder name: 'Shop DataSet'\")\n",
        "        return False\n",
        "\n",
        "    # Check dataset categories\n",
        "    try:\n",
        "        label_types = [d for d in os.listdir(DATASET_PATH) if os.path.isdir(os.path.join(DATASET_PATH, d))]\n",
        "        print(f\"📊 Found categories: {label_types}\")\n",
        "\n",
        "        total_videos = 0\n",
        "        for category in label_types:\n",
        "            category_path = os.path.join(DATASET_PATH, category)\n",
        "            videos = [f for f in os.listdir(category_path) if f.endswith(('.mp4', '.avi', '.mov'))]\n",
        "            print(f\"   {category}: {len(videos)} videos\")\n",
        "            total_videos += len(videos)\n",
        "\n",
        "        print(f\"📈 Total videos: {total_videos}\")\n",
        "\n",
        "        if total_videos == 0:\n",
        "            print(\"⚠️  No video files found!\")\n",
        "            return False\n",
        "\n",
        "        return True\n",
        "\n",
        "    except Exception as e:\n",
        "        print(f\"❌ Error checking dataset structure: {e}\")\n",
        "        return False"
      ],
      "metadata": {
        "id": "Ak-GBjs1Cw6n"
      },
      "execution_count": 15,
      "outputs": []
    },
    {
      "cell_type": "code",
      "source": [
        "# Setup dataset\n",
        "print(\"🚀 Setting up dataset...\")\n",
        "dataset_ready = setup_dataset_structure()\n",
        "\n",
        "if dataset_ready:\n",
        "    print(\"✅ Dataset setup complete!\")\n",
        "else:\n",
        "    print(\"❌ Dataset setup failed. Please check your files and try again.\")"
      ],
      "metadata": {
        "colab": {
          "base_uri": "https://localhost:8080/"
        },
        "id": "bLx8nsvYCzcb",
        "outputId": "0ad06373-f2e3-48e5-feb5-d93f623d236d"
      },
      "execution_count": 16,
      "outputs": [
        {
          "output_type": "stream",
          "name": "stdout",
          "text": [
            "🚀 Setting up dataset...\n",
            "📦 Extracting dataset from: /content/drive/MyDrive/Datasets/Shop DataSet.zip\n",
            "📄 Found 857 files in zip\n",
            "✅ Dataset extracted to: /content/drive/MyDrive/Datasets/Extracted Data\n",
            "📊 Found categories: ['non shop lifters', 'shop lifters']\n",
            "   non shop lifters: 531 videos\n",
            "   shop lifters: 324 videos\n",
            "📈 Total videos: 855\n",
            "✅ Dataset setup complete!\n"
          ]
        }
      ]
    },
    {
      "cell_type": "markdown",
      "source": [
        "---"
      ],
      "metadata": {
        "id": "PLwDmLtVCz-H"
      }
    },
    {
      "cell_type": "markdown",
      "source": [
        "## 4. Data Loading and Preprocessing"
      ],
      "metadata": {
        "id": "2LbBXdFVC0yK"
      }
    },
    {
      "cell_type": "code",
      "source": [
        "def create_dataframe():\n",
        "    \"\"\"Create dataframe with video paths and labels\"\"\"\n",
        "    if not dataset_ready:\n",
        "        print(\"Dataset not ready. Please check the dataset setup.\")\n",
        "        return None\n",
        "\n",
        "    rooms = []\n",
        "    label_types = os.listdir(DATASET_PATH)\n",
        "\n",
        "    for item in label_types:\n",
        "        category_path = os.path.join(DATASET_PATH, item)\n",
        "        if os.path.isdir(category_path):\n",
        "            all_videos = os.listdir(category_path)\n",
        "            for video in all_videos:\n",
        "                if video.endswith(('.mp4', '.avi', '.mov')):  # Video file extensions\n",
        "                    video_path = os.path.join(category_path, video)\n",
        "                    rooms.append((item, video_path))\n",
        "\n",
        "    # Build dataframe\n",
        "    dataSet_df = pd.DataFrame(data=rooms, columns=['tag', 'video_name'])\n",
        "    print(f\"Total videos in dataset: {len(dataSet_df)}\")\n",
        "    print(\"\\nDataset sample:\")\n",
        "    print(dataSet_df.head())\n",
        "\n",
        "    # Save dataframe to Google Drive\n",
        "    csv_path = os.path.join(DATASETS_DIR, 'dataset.csv')\n",
        "    dataSet_df.to_csv(csv_path, index=False)\n",
        "    print(f\"💾 Dataset info saved to: {csv_path}\")\n",
        "\n",
        "    return dataSet_df"
      ],
      "metadata": {
        "id": "oF8jtjn-C0R6"
      },
      "execution_count": 17,
      "outputs": []
    },
    {
      "cell_type": "code",
      "source": [
        "def crop_center_square(frame):\n",
        "    \"\"\"Crop frame to center square\"\"\"\n",
        "    y, x = frame.shape[0:2]\n",
        "    min_dim = min(y, x)\n",
        "    start_x = (x // 2) - (min_dim // 2)\n",
        "    start_y = (y // 2) - (min_dim // 2)\n",
        "    return frame[start_y : start_y + min_dim, start_x : start_x + min_dim]"
      ],
      "metadata": {
        "id": "gzYnx12JC_e6"
      },
      "execution_count": 18,
      "outputs": []
    },
    {
      "cell_type": "code",
      "source": [
        "def load_video(path, max_frames=0, resize=(IMG_SIZE, IMG_SIZE)):\n",
        "    \"\"\"Load video frames with error handling\"\"\"\n",
        "    if not os.path.exists(path):\n",
        "        print(f\"Video not found: {path}\")\n",
        "        return np.array([])\n",
        "\n",
        "    cap = cv2.VideoCapture(path)\n",
        "    frames = []\n",
        "\n",
        "    try:\n",
        "        while True:\n",
        "            ret, frame = cap.read()\n",
        "            if not ret:\n",
        "                break\n",
        "\n",
        "            # Preprocess frame\n",
        "            frame = crop_center_square(frame)\n",
        "            frame = cv2.resize(frame, resize)\n",
        "            frame = frame[:, :, [2, 1, 0]]  # Convert BGR to RGB\n",
        "            frames.append(frame)\n",
        "\n",
        "            if max_frames > 0 and len(frames) == max_frames:\n",
        "                break\n",
        "    except Exception as e:\n",
        "        print(f\"Error processing video {path}: {e}\")\n",
        "    finally:\n",
        "        cap.release()\n",
        "\n",
        "    return np.array(frames)"
      ],
      "metadata": {
        "id": "B_7j2ZFGDCei"
      },
      "execution_count": 19,
      "outputs": []
    },
    {
      "cell_type": "code",
      "source": [
        "# Create dataset dataframe\n",
        "dataSet_df = create_dataframe()\n",
        "if dataSet_df is not None:\n",
        "    print(f\"\\nDataset created successfully with {len(dataSet_df)} videos\")"
      ],
      "metadata": {
        "colab": {
          "base_uri": "https://localhost:8080/"
        },
        "id": "OFHmSD4fDEQg",
        "outputId": "dd3d3f3a-6725-4c96-ab8c-264f683032da"
      },
      "execution_count": 20,
      "outputs": [
        {
          "output_type": "stream",
          "name": "stdout",
          "text": [
            "Total videos in dataset: 855\n",
            "\n",
            "Dataset sample:\n",
            "                tag                                         video_name\n",
            "0  non shop lifters  /content/drive/MyDrive/Datasets/Extracted Data...\n",
            "1  non shop lifters  /content/drive/MyDrive/Datasets/Extracted Data...\n",
            "2  non shop lifters  /content/drive/MyDrive/Datasets/Extracted Data...\n",
            "3  non shop lifters  /content/drive/MyDrive/Datasets/Extracted Data...\n",
            "4  non shop lifters  /content/drive/MyDrive/Datasets/Extracted Data...\n",
            "💾 Dataset info saved to: /content/drive/MyDrive/Datasets/dataset.csv\n",
            "\n",
            "Dataset created successfully with 855 videos\n"
          ]
        }
      ]
    },
    {
      "cell_type": "markdown",
      "source": [
        "---"
      ],
      "metadata": {
        "id": "-R0TYzaiDFCn"
      }
    },
    {
      "cell_type": "markdown",
      "source": [
        "## 5. ResNet50 Architecture"
      ],
      "metadata": {
        "id": "yCspn2haDFxD"
      }
    },
    {
      "cell_type": "code",
      "source": [
        "def identity_block(X, f, filters, initializer=random_uniform):\n",
        "    \"\"\"Implementation of the identity block\"\"\"\n",
        "    F1, F2, F3 = filters\n",
        "    X_shortcut = X\n",
        "\n",
        "    # First component\n",
        "    X = Conv2D(filters=F1, kernel_size=1, strides=(1,1), padding='valid',\n",
        "               kernel_initializer=initializer(seed=0))(X)\n",
        "    X = BatchNormalization(axis=3)(X)\n",
        "    X = Activation('relu')(X)\n",
        "\n",
        "    # Second component\n",
        "    X = Conv2D(filters=F2, kernel_size=(f,f), strides=(1,1), padding='same',\n",
        "               kernel_initializer=initializer(seed=0))(X)\n",
        "    X = BatchNormalization(axis=3)(X)\n",
        "    X = Activation('relu')(X)\n",
        "\n",
        "    # Third component\n",
        "    X = Conv2D(filters=F3, kernel_size=1, strides=(1,1), padding='valid',\n",
        "               kernel_initializer=initializer(seed=0))(X)\n",
        "    X = BatchNormalization(axis=3)(X)\n",
        "\n",
        "    # Add shortcut\n",
        "    X = Add()([X, X_shortcut])\n",
        "    X = Activation('relu')(X)\n",
        "\n",
        "    return X"
      ],
      "metadata": {
        "id": "vkZiwJmvDFXv"
      },
      "execution_count": 21,
      "outputs": []
    },
    {
      "cell_type": "code",
      "source": [
        "def convolutional_block(X, f, filters, s=2, initializer=glorot_uniform):\n",
        "    \"\"\"Implementation of the convolutional block\"\"\"\n",
        "    F1, F2, F3 = filters\n",
        "    X_shortcut = X\n",
        "\n",
        "    # Main path\n",
        "    X = Conv2D(filters=F1, kernel_size=1, strides=(s, s), padding='valid',\n",
        "               kernel_initializer=initializer(seed=0))(X)\n",
        "    X = BatchNormalization(axis=3)(X)\n",
        "    X = Activation('relu')(X)\n",
        "\n",
        "    X = Conv2D(filters=F2, kernel_size=(f,f), strides=(1, 1), padding='same',\n",
        "               kernel_initializer=initializer(seed=0))(X)\n",
        "    X = BatchNormalization(axis=3)(X)\n",
        "    X = Activation('relu')(X)\n",
        "\n",
        "    X = Conv2D(filters=F3, kernel_size=1, strides=(1, 1), padding='valid',\n",
        "               kernel_initializer=initializer(seed=0))(X)\n",
        "    X = BatchNormalization(axis=3)(X)\n",
        "\n",
        "    # Shortcut path\n",
        "    X_shortcut = Conv2D(filters=F3, kernel_size=1, strides=(s, s), padding='valid',\n",
        "                        kernel_initializer=initializer(seed=0))(X_shortcut)\n",
        "    X_shortcut = BatchNormalization(axis=3)(X_shortcut)\n",
        "\n",
        "    # Add shortcut\n",
        "    X = Add()([X, X_shortcut])\n",
        "    X = Activation('relu')(X)\n",
        "\n",
        "    return X"
      ],
      "metadata": {
        "id": "MZYQ0h0ADNU_"
      },
      "execution_count": 22,
      "outputs": []
    },
    {
      "cell_type": "code",
      "source": [
        "def ResNet50_feature_extractor(input_shape=(224, 224, 3)):\n",
        "    \"\"\"Custom ResNet50 for feature extraction\"\"\"\n",
        "    X_input = Input(input_shape)\n",
        "\n",
        "    # Stage 1\n",
        "    X = ZeroPadding2D((3, 3))(X_input)\n",
        "    X = Conv2D(64, (7, 7), strides=(2, 2), kernel_initializer=glorot_uniform(seed=0))(X)\n",
        "    X = BatchNormalization(axis=3)(X)\n",
        "    X = Activation('relu')(X)\n",
        "    X = MaxPooling2D((3, 3), strides=(2, 2))(X)\n",
        "\n",
        "    # Stage 2\n",
        "    X = convolutional_block(X, f=3, filters=[64, 64, 256], s=1)\n",
        "    X = identity_block(X, 3, [64, 64, 256])\n",
        "    X = identity_block(X, 3, [64, 64, 256])\n",
        "\n",
        "    # Stage 3\n",
        "    X = convolutional_block(X, f=3, filters=[128, 128, 512], s=2)\n",
        "    X = identity_block(X, 3, [128, 128, 512])\n",
        "    X = identity_block(X, 3, [128, 128, 512])\n",
        "    X = identity_block(X, 3, [128, 128, 512])\n",
        "\n",
        "    # Stage 4\n",
        "    X = convolutional_block(X, f=3, filters=[256, 256, 1024], s=2)\n",
        "    X = identity_block(X, 3, [256, 256, 1024])\n",
        "    X = identity_block(X, 3, [256, 256, 1024])\n",
        "    X = identity_block(X, 3, [256, 256, 1024])\n",
        "    X = identity_block(X, 3, [256, 256, 1024])\n",
        "    X = identity_block(X, 3, [256, 256, 1024])\n",
        "\n",
        "    # Stage 5\n",
        "    X = convolutional_block(X, f=3, filters=[512, 512, 2048], s=2)\n",
        "    X = identity_block(X, 3, [512, 512, 2048])\n",
        "    X = identity_block(X, 3, [512, 512, 2048])\n",
        "\n",
        "    # Global Average Pooling\n",
        "    X = GlobalAveragePooling2D()(X)\n",
        "\n",
        "    # Create model\n",
        "    model = Model(inputs=X_input, outputs=X, name=\"ResNet50_feature_extractor\")\n",
        "    return model"
      ],
      "metadata": {
        "id": "tOUTnuBoDPqH"
      },
      "execution_count": 23,
      "outputs": []
    },
    {
      "cell_type": "code",
      "source": [
        "def build_feature_extractor():\n",
        "    \"\"\"Build complete feature extractor with preprocessing\"\"\"\n",
        "    # Build ResNet50 feature extractor\n",
        "    feature_extractor = ResNet50_feature_extractor(input_shape=(IMG_SIZE, IMG_SIZE, 3))\n",
        "\n",
        "    # Define preprocessing\n",
        "    preprocess_input = keras.applications.resnet50.preprocess_input\n",
        "\n",
        "    # Input layer\n",
        "    inputs = keras.Input((IMG_SIZE, IMG_SIZE, 3))\n",
        "\n",
        "    # Apply preprocessing using Lambda layer\n",
        "    preprocessed = Lambda(preprocess_input)(inputs)\n",
        "\n",
        "    # Pass to feature extractor\n",
        "    outputs = feature_extractor(preprocessed)\n",
        "\n",
        "    return keras.Model(inputs, outputs, name=\"feature_extractor\")"
      ],
      "metadata": {
        "id": "QWFg2g4UDR2X"
      },
      "execution_count": 24,
      "outputs": []
    },
    {
      "cell_type": "code",
      "source": [
        "# Build feature extractor\n",
        "print(\"Building feature extractor...\")\n",
        "feature_extractor = build_feature_extractor()\n",
        "print(\"Feature extractor built successfully!\")\n",
        "feature_extractor.summary()"
      ],
      "metadata": {
        "colab": {
          "base_uri": "https://localhost:8080/",
          "height": 276
        },
        "id": "9d6NljW5DTsT",
        "outputId": "6453fa9e-80a0-49d6-a0d6-53f4d6c00dd8"
      },
      "execution_count": 25,
      "outputs": [
        {
          "output_type": "stream",
          "name": "stdout",
          "text": [
            "Building feature extractor...\n",
            "Feature extractor built successfully!\n"
          ]
        },
        {
          "output_type": "display_data",
          "data": {
            "text/plain": [
              "\u001b[1mModel: \"feature_extractor\"\u001b[0m\n"
            ],
            "text/html": [
              "<pre style=\"white-space:pre;overflow-x:auto;line-height:normal;font-family:Menlo,'DejaVu Sans Mono',consolas,'Courier New',monospace\"><span style=\"font-weight: bold\">Model: \"feature_extractor\"</span>\n",
              "</pre>\n"
            ]
          },
          "metadata": {}
        },
        {
          "output_type": "display_data",
          "data": {
            "text/plain": [
              "┏━━━━━━━━━━━━━━━━━━━━━━━━━━━━━━━━━┳━━━━━━━━━━━━━━━━━━━━━━━━┳━━━━━━━━━━━━━━━┓\n",
              "┃\u001b[1m \u001b[0m\u001b[1mLayer (type)                   \u001b[0m\u001b[1m \u001b[0m┃\u001b[1m \u001b[0m\u001b[1mOutput Shape          \u001b[0m\u001b[1m \u001b[0m┃\u001b[1m \u001b[0m\u001b[1m      Param #\u001b[0m\u001b[1m \u001b[0m┃\n",
              "┡━━━━━━━━━━━━━━━━━━━━━━━━━━━━━━━━━╇━━━━━━━━━━━━━━━━━━━━━━━━╇━━━━━━━━━━━━━━━┩\n",
              "│ input_layer_1 (\u001b[38;5;33mInputLayer\u001b[0m)      │ (\u001b[38;5;45mNone\u001b[0m, \u001b[38;5;34m224\u001b[0m, \u001b[38;5;34m224\u001b[0m, \u001b[38;5;34m3\u001b[0m)    │             \u001b[38;5;34m0\u001b[0m │\n",
              "├─────────────────────────────────┼────────────────────────┼───────────────┤\n",
              "│ lambda (\u001b[38;5;33mLambda\u001b[0m)                 │ (\u001b[38;5;45mNone\u001b[0m, \u001b[38;5;34m224\u001b[0m, \u001b[38;5;34m224\u001b[0m, \u001b[38;5;34m3\u001b[0m)    │             \u001b[38;5;34m0\u001b[0m │\n",
              "├─────────────────────────────────┼────────────────────────┼───────────────┤\n",
              "│ ResNet50_feature_extractor      │ (\u001b[38;5;45mNone\u001b[0m, \u001b[38;5;34m2048\u001b[0m)           │    \u001b[38;5;34m23,587,712\u001b[0m │\n",
              "│ (\u001b[38;5;33mFunctional\u001b[0m)                    │                        │               │\n",
              "└─────────────────────────────────┴────────────────────────┴───────────────┘\n"
            ],
            "text/html": [
              "<pre style=\"white-space:pre;overflow-x:auto;line-height:normal;font-family:Menlo,'DejaVu Sans Mono',consolas,'Courier New',monospace\">┏━━━━━━━━━━━━━━━━━━━━━━━━━━━━━━━━━┳━━━━━━━━━━━━━━━━━━━━━━━━┳━━━━━━━━━━━━━━━┓\n",
              "┃<span style=\"font-weight: bold\"> Layer (type)                    </span>┃<span style=\"font-weight: bold\"> Output Shape           </span>┃<span style=\"font-weight: bold\">       Param # </span>┃\n",
              "┡━━━━━━━━━━━━━━━━━━━━━━━━━━━━━━━━━╇━━━━━━━━━━━━━━━━━━━━━━━━╇━━━━━━━━━━━━━━━┩\n",
              "│ input_layer_1 (<span style=\"color: #0087ff; text-decoration-color: #0087ff\">InputLayer</span>)      │ (<span style=\"color: #00d7ff; text-decoration-color: #00d7ff\">None</span>, <span style=\"color: #00af00; text-decoration-color: #00af00\">224</span>, <span style=\"color: #00af00; text-decoration-color: #00af00\">224</span>, <span style=\"color: #00af00; text-decoration-color: #00af00\">3</span>)    │             <span style=\"color: #00af00; text-decoration-color: #00af00\">0</span> │\n",
              "├─────────────────────────────────┼────────────────────────┼───────────────┤\n",
              "│ lambda (<span style=\"color: #0087ff; text-decoration-color: #0087ff\">Lambda</span>)                 │ (<span style=\"color: #00d7ff; text-decoration-color: #00d7ff\">None</span>, <span style=\"color: #00af00; text-decoration-color: #00af00\">224</span>, <span style=\"color: #00af00; text-decoration-color: #00af00\">224</span>, <span style=\"color: #00af00; text-decoration-color: #00af00\">3</span>)    │             <span style=\"color: #00af00; text-decoration-color: #00af00\">0</span> │\n",
              "├─────────────────────────────────┼────────────────────────┼───────────────┤\n",
              "│ ResNet50_feature_extractor      │ (<span style=\"color: #00d7ff; text-decoration-color: #00d7ff\">None</span>, <span style=\"color: #00af00; text-decoration-color: #00af00\">2048</span>)           │    <span style=\"color: #00af00; text-decoration-color: #00af00\">23,587,712</span> │\n",
              "│ (<span style=\"color: #0087ff; text-decoration-color: #0087ff\">Functional</span>)                    │                        │               │\n",
              "└─────────────────────────────────┴────────────────────────┴───────────────┘\n",
              "</pre>\n"
            ]
          },
          "metadata": {}
        },
        {
          "output_type": "display_data",
          "data": {
            "text/plain": [
              "\u001b[1m Total params: \u001b[0m\u001b[38;5;34m23,587,712\u001b[0m (89.98 MB)\n"
            ],
            "text/html": [
              "<pre style=\"white-space:pre;overflow-x:auto;line-height:normal;font-family:Menlo,'DejaVu Sans Mono',consolas,'Courier New',monospace\"><span style=\"font-weight: bold\"> Total params: </span><span style=\"color: #00af00; text-decoration-color: #00af00\">23,587,712</span> (89.98 MB)\n",
              "</pre>\n"
            ]
          },
          "metadata": {}
        },
        {
          "output_type": "display_data",
          "data": {
            "text/plain": [
              "\u001b[1m Trainable params: \u001b[0m\u001b[38;5;34m23,534,592\u001b[0m (89.78 MB)\n"
            ],
            "text/html": [
              "<pre style=\"white-space:pre;overflow-x:auto;line-height:normal;font-family:Menlo,'DejaVu Sans Mono',consolas,'Courier New',monospace\"><span style=\"font-weight: bold\"> Trainable params: </span><span style=\"color: #00af00; text-decoration-color: #00af00\">23,534,592</span> (89.78 MB)\n",
              "</pre>\n"
            ]
          },
          "metadata": {}
        },
        {
          "output_type": "display_data",
          "data": {
            "text/plain": [
              "\u001b[1m Non-trainable params: \u001b[0m\u001b[38;5;34m53,120\u001b[0m (207.50 KB)\n"
            ],
            "text/html": [
              "<pre style=\"white-space:pre;overflow-x:auto;line-height:normal;font-family:Menlo,'DejaVu Sans Mono',consolas,'Courier New',monospace\"><span style=\"font-weight: bold\"> Non-trainable params: </span><span style=\"color: #00af00; text-decoration-color: #00af00\">53,120</span> (207.50 KB)\n",
              "</pre>\n"
            ]
          },
          "metadata": {}
        }
      ]
    },
    {
      "cell_type": "markdown",
      "source": [
        "---"
      ],
      "metadata": {
        "id": "QIOamuZWDUJp"
      }
    },
    {
      "cell_type": "markdown",
      "source": [
        "## 6. Feature Extraction"
      ],
      "metadata": {
        "id": "ygAtwZopDUxC"
      }
    },
    {
      "cell_type": "code",
      "source": [
        "def extract_features_colab_optimized(df, save_path, batch_size=FEATURE_BATCH_SIZE):\n",
        "    \"\"\"Extract features from all videos - optimized for Google Colab\"\"\"\n",
        "\n",
        "    if os.path.exists(save_path):\n",
        "        print(f\"✅ Features already extracted. Loading from: {save_path}\")\n",
        "        try:\n",
        "            with open(save_path, 'rb') as f:\n",
        "                return pickle.load(f)\n",
        "        except Exception as e:\n",
        "            print(f\"❌ Error loading saved features: {e}\")\n",
        "            print(\"🔄 Re-extracting features...\")\n",
        "\n",
        "    num_samples = len(df)\n",
        "    video_paths = df[\"video_name\"].values.tolist()\n",
        "    labels = df[\"tag\"].values\n",
        "\n",
        "    # Setup label processor\n",
        "    label_processor = keras.layers.StringLookup(\n",
        "        num_oov_indices=0,\n",
        "        vocabulary=np.unique(labels)\n",
        "    )\n",
        "    print(f\"🏷️  Label vocabulary: {label_processor.get_vocabulary()}\")\n",
        "\n",
        "    # Convert labels\n",
        "    encoded_labels = label_processor(labels[..., None]).numpy()\n",
        "\n",
        "    # Initialize arrays\n",
        "    frame_masks = np.zeros(shape=(num_samples, MAX_SEQ_LENGTH), dtype=\"bool\")\n",
        "    frame_features = np.zeros(shape=(num_samples, MAX_SEQ_LENGTH, NUM_FEATURES), dtype=\"float32\")\n",
        "\n",
        "    print(f\"🎬 Processing {num_samples} videos...\")\n",
        "    print(\"💡 Tip: This may take a while. Colab will show processing progress.\")\n",
        "\n",
        "    # Process videos with progress tracking\n",
        "    successful_videos = 0\n",
        "    failed_videos = 0\n",
        "\n",
        "    for idx, path in enumerate(video_paths):\n",
        "        print(f\"\\r🎯 Processing video {idx+1}/{num_samples}: {os.path.basename(path)[:50]}...\", end=\"\", flush=True)\n",
        "\n",
        "        try:\n",
        "            # Load video frames\n",
        "            frames = load_video(path)\n",
        "\n",
        "            if len(frames) == 0:\n",
        "                print(f\"\\n⚠️  Warning: No frames loaded from {os.path.basename(path)}\")\n",
        "                failed_videos += 1\n",
        "                continue\n",
        "\n",
        "            video_length = len(frames)\n",
        "\n",
        "            # Set up mask\n",
        "            length = min(MAX_SEQ_LENGTH, video_length)\n",
        "            frame_masks[idx, :length] = 1\n",
        "\n",
        "            # Process frames in small batches to avoid memory issues\n",
        "            processed_features = []\n",
        "\n",
        "            for start in range(0, video_length, batch_size):\n",
        "                end = min(start + batch_size, video_length)\n",
        "                batch = frames[start:end]\n",
        "\n",
        "                # Extract features for this batch\n",
        "                try:\n",
        "                    batch_features = feature_extractor.predict(batch, verbose=0)\n",
        "                    processed_features.append(batch_features)\n",
        "                except Exception as e:\n",
        "                    print(f\"\\n❌ Error processing batch for {os.path.basename(path)}: {e}\")\n",
        "                    break\n",
        "\n",
        "                # Clear memory\n",
        "                del batch\n",
        "                if idx % 10 == 0:  # Periodic garbage collection\n",
        "                    gc.collect()\n",
        "\n",
        "            if processed_features:\n",
        "                # Concatenate all features\n",
        "                all_features = np.concatenate(processed_features, axis=0)\n",
        "\n",
        "                # Store features (only up to MAX_SEQ_LENGTH)\n",
        "                features_to_store = min(len(all_features), MAX_SEQ_LENGTH)\n",
        "                frame_features[idx, :features_to_store, :] = all_features[:features_to_store]\n",
        "                successful_videos += 1\n",
        "\n",
        "            # Clear memory\n",
        "            del frames, processed_features\n",
        "            if 'all_features' in locals():\n",
        "                del all_features\n",
        "\n",
        "            # Force garbage collection every few videos\n",
        "            if idx % 5 == 0:\n",
        "                gc.collect()\n",
        "\n",
        "        except Exception as e:\n",
        "            print(f\"\\n❌ Error processing {os.path.basename(path)}: {e}\")\n",
        "            failed_videos += 1\n",
        "            continue\n",
        "\n",
        "    print(f\"\\n✅ Feature extraction complete!\")\n",
        "    print(f\"   Successful: {successful_videos} videos\")\n",
        "    print(f\"   Failed: {failed_videos} videos\")\n",
        "\n",
        "    # Save results to Google Drive\n",
        "    result = {\n",
        "        'frame_features': frame_features,\n",
        "        'frame_masks': frame_masks,\n",
        "        'labels': encoded_labels,\n",
        "        'label_processor': label_processor,\n",
        "        'successful_videos': successful_videos,\n",
        "        'total_videos': num_samples\n",
        "    }\n",
        "\n",
        "    try:\n",
        "        with open(save_path, 'wb') as f:\n",
        "            pickle.dump(result, f)\n",
        "        print(f\"💾 Features saved to Google Drive: {save_path}\")\n",
        "    except Exception as e:\n",
        "        print(f\"❌ Error saving features: {e}\")\n",
        "        # Try saving to local Colab storage as backup\n",
        "        backup_path = \"/content/extracted_features_backup.pkl\"\n",
        "        with open(backup_path, 'wb') as f:\n",
        "            pickle.dump(result, f)\n",
        "        print(f\"💾 Backup saved to: {backup_path}\")\n",
        "\n",
        "    return result"
      ],
      "metadata": {
        "id": "Xgjk7VZQDUbK"
      },
      "execution_count": 26,
      "outputs": []
    },
    {
      "cell_type": "code",
      "source": [
        "# Extract features\n",
        "if dataSet_df is not None and dataset_ready:\n",
        "    features_path = os.path.join(DATASETS_DIR, 'extracted_features.pkl')\n",
        "\n",
        "    print(\"🚀 Starting feature extraction...\")\n",
        "    print(\"⏱️  This process may take 10-30 minutes depending on your dataset size\")\n",
        "\n",
        "    feature_data = extract_features_colab_optimized(dataSet_df, features_path)\n",
        "\n",
        "    print(f\"\\n📊 FEATURE EXTRACTION RESULTS:\")\n",
        "    print(f\"   Frame features shape: {feature_data['frame_features'].shape}\")\n",
        "    print(f\"   Frame masks shape: {feature_data['frame_masks'].shape}\")\n",
        "    print(f\"   Labels shape: {feature_data['labels'].shape}\")\n",
        "    print(f\"   Success rate: {feature_data['successful_videos']}/{feature_data['total_videos']} videos\")\n",
        "\n",
        "else:\n",
        "    print(\"⚠️  Skipping feature extraction - dataset not ready\")"
      ],
      "metadata": {
        "colab": {
          "base_uri": "https://localhost:8080/"
        },
        "id": "3ZOxu62sDfkm",
        "outputId": "a8eb1ac6-029b-4ead-b8c6-1d2b7c12e25e"
      },
      "execution_count": 27,
      "outputs": [
        {
          "output_type": "stream",
          "name": "stdout",
          "text": [
            "🚀 Starting feature extraction...\n",
            "⏱️  This process may take 10-30 minutes depending on your dataset size\n",
            "🏷️  Label vocabulary: [np.str_('non shop lifters'), np.str_('shop lifters')]\n",
            "🎬 Processing 855 videos...\n",
            "💡 Tip: This may take a while. Colab will show processing progress.\n",
            "🎯 Processing video 855/855: videyyyyyyzzzzzyyyss_9.mp4...\n",
            "✅ Feature extraction complete!\n",
            "   Successful: 855 videos\n",
            "   Failed: 0 videos\n",
            "💾 Features saved to Google Drive: /content/drive/MyDrive/Datasets/extracted_features.pkl\n",
            "\n",
            "📊 FEATURE EXTRACTION RESULTS:\n",
            "   Frame features shape: (855, 20, 2048)\n",
            "   Frame masks shape: (855, 20)\n",
            "   Labels shape: (855, 1)\n",
            "   Success rate: 855/855 videos\n"
          ]
        }
      ]
    },
    {
      "cell_type": "markdown",
      "source": [
        "---"
      ],
      "metadata": {
        "id": "xxUgGyF3Dga3"
      }
    },
    {
      "cell_type": "markdown",
      "source": [
        "## 7. Data Preparation and Normalization"
      ],
      "metadata": {
        "id": "LejgmLdYDhIa"
      }
    },
    {
      "cell_type": "code",
      "source": [
        "def prepare_data(feature_data, test_size=0.2, random_state=42):\n",
        "    \"\"\"Prepare and normalize data for training\"\"\"\n",
        "\n",
        "    frame_features = feature_data['frame_features']\n",
        "    frame_masks = feature_data['frame_masks']\n",
        "    labels = feature_data['labels']\n",
        "\n",
        "    print(\"Original data shapes:\")\n",
        "    print(f\"  Frame features: {frame_features.shape}\")\n",
        "    print(f\"  Frame masks: {frame_masks.shape}\")\n",
        "    print(f\"  Labels: {labels.shape}\")\n",
        "\n",
        "    # Split data\n",
        "    (X_train_features, X_test_features,\n",
        "     X_train_masks, X_test_masks,\n",
        "     y_train, y_test) = train_test_split(\n",
        "        frame_features, frame_masks, labels,\n",
        "        test_size=test_size, random_state=random_state, stratify=labels\n",
        "    )\n",
        "\n",
        "    print(f\"\\nAfter train-test split:\")\n",
        "    print(f\"  Training samples: {len(X_train_features)}\")\n",
        "    print(f\"  Test samples: {len(X_test_features)}\")\n",
        "\n",
        "    # Normalize features\n",
        "    print(\"Normalizing features...\")\n",
        "\n",
        "    # Get shapes\n",
        "    train_n_samples, train_max_length, train_n_features = X_train_features.shape\n",
        "    test_n_samples, test_max_length, test_n_features = X_test_features.shape\n",
        "\n",
        "    # Reshape to 2D for normalization\n",
        "    train_features_flat = X_train_features.reshape(-1, train_n_features)\n",
        "    test_features_flat = X_test_features.reshape(-1, test_n_features)\n",
        "\n",
        "    # Apply Min-Max scaling\n",
        "    scaler = MinMaxScaler(feature_range=(0, 1))\n",
        "    train_features_normalized = scaler.fit_transform(train_features_flat)\n",
        "    test_features_normalized = scaler.transform(test_features_flat)  # Use transform, not fit_transform\n",
        "\n",
        "    # Reshape back to 3D\n",
        "    X_train_features = train_features_normalized.reshape(train_n_samples, train_max_length, train_n_features)\n",
        "    X_test_features = test_features_normalized.reshape(test_n_samples, test_max_length, test_n_features)\n",
        "\n",
        "    print(f\"Feature range after normalization: [{X_train_features.min():.3f}, {X_train_features.max():.3f}]\")\n",
        "\n",
        "    return (X_train_features, X_test_features, X_train_masks, X_test_masks, y_train, y_test), scaler"
      ],
      "metadata": {
        "id": "0TetrN1cDgxE"
      },
      "execution_count": 28,
      "outputs": []
    },
    {
      "cell_type": "code",
      "source": [
        "# Prepare data\n",
        "if 'feature_data' in locals():\n",
        "    prepared_data, scaler = prepare_data(feature_data)\n",
        "    (X_train_features, X_test_features, X_train_masks, X_test_masks, y_train, y_test) = prepared_data\n",
        "\n",
        "    print(\"Data preparation complete!\")\n",
        "    print(f\"Training set - Features: {X_train_features.shape}, Masks: {X_train_masks.shape}, Labels: {y_train.shape}\")\n",
        "    print(f\"Test set - Features: {X_test_features.shape}, Masks: {X_test_masks.shape}, Labels: {y_test.shape}\")"
      ],
      "metadata": {
        "colab": {
          "base_uri": "https://localhost:8080/"
        },
        "id": "gCRKxHhiDpXZ",
        "outputId": "9d3cc939-0f22-443e-d5ea-f589744c4363"
      },
      "execution_count": 29,
      "outputs": [
        {
          "output_type": "stream",
          "name": "stdout",
          "text": [
            "Original data shapes:\n",
            "  Frame features: (855, 20, 2048)\n",
            "  Frame masks: (855, 20)\n",
            "  Labels: (855, 1)\n",
            "\n",
            "After train-test split:\n",
            "  Training samples: 684\n",
            "  Test samples: 171\n",
            "Normalizing features...\n",
            "Feature range after normalization: [0.000, 1.000]\n",
            "Data preparation complete!\n",
            "Training set - Features: (684, 20, 2048), Masks: (684, 20), Labels: (684, 1)\n",
            "Test set - Features: (171, 20, 2048), Masks: (171, 20), Labels: (171, 1)\n"
          ]
        }
      ]
    },
    {
      "cell_type": "markdown",
      "source": [
        "---"
      ],
      "metadata": {
        "id": "1dCFmYXkDqkh"
      }
    },
    {
      "cell_type": "markdown",
      "source": [
        "## 8. Sequence Model Architecture"
      ],
      "metadata": {
        "id": "wv958YhaDrKz"
      }
    },
    {
      "cell_type": "code",
      "source": [
        "def get_sequence_model(num_classes):\n",
        "    \"\"\"Build GRU-based sequence model\"\"\"\n",
        "\n",
        "    # Input layers\n",
        "    frame_features_input = keras.Input((MAX_SEQ_LENGTH, NUM_FEATURES), name='frame_features')\n",
        "    mask_input = keras.Input((MAX_SEQ_LENGTH,), dtype=\"bool\", name='mask')\n",
        "\n",
        "    # GRU layers with dropout\n",
        "    x = keras.layers.GRU(64, return_sequences=True, dropout=0.2, recurrent_dropout=0.2)(\n",
        "        frame_features_input, mask=mask_input\n",
        "    )\n",
        "    x = keras.layers.GRU(32, dropout=0.2, recurrent_dropout=0.2)(x)\n",
        "\n",
        "    # Dense layers\n",
        "    x = keras.layers.Dense(32, activation=\"relu\")(x)\n",
        "    x = keras.layers.Dropout(0.3)(x)\n",
        "    x = keras.layers.Dense(16, activation=\"relu\")(x)\n",
        "\n",
        "    # Output layer\n",
        "    output = keras.layers.Dense(num_classes, activation=\"softmax\")(x)\n",
        "\n",
        "    # Build model\n",
        "    model = keras.Model([frame_features_input, mask_input], output, name='sequence_classifier')\n",
        "\n",
        "    # Compile model\n",
        "    optimizer = tf.keras.optimizers.Adam(learning_rate=0.001)\n",
        "    model.compile(\n",
        "        loss=\"sparse_categorical_crossentropy\",\n",
        "        optimizer=optimizer,\n",
        "        metrics=[\"accuracy\"]\n",
        "    )\n",
        "\n",
        "    return model"
      ],
      "metadata": {
        "id": "NNWA9H3aDq1N"
      },
      "execution_count": 30,
      "outputs": []
    },
    {
      "cell_type": "code",
      "source": [
        "# Build sequence model\n",
        "if 'feature_data' in locals():\n",
        "    num_classes = len(feature_data['label_processor'].get_vocabulary())\n",
        "    print(f\"Number of classes: {num_classes}\")\n",
        "    print(f\"Classes: {feature_data['label_processor'].get_vocabulary()}\")\n",
        "\n",
        "    seq_model = get_sequence_model(num_classes)\n",
        "    seq_model.summary()"
      ],
      "metadata": {
        "colab": {
          "base_uri": "https://localhost:8080/",
          "height": 452
        },
        "id": "FJuD2FxkDxIA",
        "outputId": "6b68099d-aecd-442f-d259-3d732cccfefb"
      },
      "execution_count": 31,
      "outputs": [
        {
          "output_type": "stream",
          "name": "stdout",
          "text": [
            "Number of classes: 2\n",
            "Classes: [np.str_('non shop lifters'), np.str_('shop lifters')]\n"
          ]
        },
        {
          "output_type": "display_data",
          "data": {
            "text/plain": [
              "\u001b[1mModel: \"sequence_classifier\"\u001b[0m\n"
            ],
            "text/html": [
              "<pre style=\"white-space:pre;overflow-x:auto;line-height:normal;font-family:Menlo,'DejaVu Sans Mono',consolas,'Courier New',monospace\"><span style=\"font-weight: bold\">Model: \"sequence_classifier\"</span>\n",
              "</pre>\n"
            ]
          },
          "metadata": {}
        },
        {
          "output_type": "display_data",
          "data": {
            "text/plain": [
              "┏━━━━━━━━━━━━━━━━━━━━━┳━━━━━━━━━━━━━━━━━━━┳━━━━━━━━━━━━┳━━━━━━━━━━━━━━━━━━━┓\n",
              "┃\u001b[1m \u001b[0m\u001b[1mLayer (type)       \u001b[0m\u001b[1m \u001b[0m┃\u001b[1m \u001b[0m\u001b[1mOutput Shape     \u001b[0m\u001b[1m \u001b[0m┃\u001b[1m \u001b[0m\u001b[1m   Param #\u001b[0m\u001b[1m \u001b[0m┃\u001b[1m \u001b[0m\u001b[1mConnected to     \u001b[0m\u001b[1m \u001b[0m┃\n",
              "┡━━━━━━━━━━━━━━━━━━━━━╇━━━━━━━━━━━━━━━━━━━╇━━━━━━━━━━━━╇━━━━━━━━━━━━━━━━━━━┩\n",
              "│ frame_features      │ (\u001b[38;5;45mNone\u001b[0m, \u001b[38;5;34m20\u001b[0m, \u001b[38;5;34m2048\u001b[0m)  │          \u001b[38;5;34m0\u001b[0m │ -                 │\n",
              "│ (\u001b[38;5;33mInputLayer\u001b[0m)        │                   │            │                   │\n",
              "├─────────────────────┼───────────────────┼────────────┼───────────────────┤\n",
              "│ mask (\u001b[38;5;33mInputLayer\u001b[0m)   │ (\u001b[38;5;45mNone\u001b[0m, \u001b[38;5;34m20\u001b[0m)        │          \u001b[38;5;34m0\u001b[0m │ -                 │\n",
              "├─────────────────────┼───────────────────┼────────────┼───────────────────┤\n",
              "│ gru (\u001b[38;5;33mGRU\u001b[0m)           │ (\u001b[38;5;45mNone\u001b[0m, \u001b[38;5;34m20\u001b[0m, \u001b[38;5;34m64\u001b[0m)    │    \u001b[38;5;34m405,888\u001b[0m │ frame_features[\u001b[38;5;34m0\u001b[0m… │\n",
              "│                     │                   │            │ mask[\u001b[38;5;34m0\u001b[0m][\u001b[38;5;34m0\u001b[0m]        │\n",
              "├─────────────────────┼───────────────────┼────────────┼───────────────────┤\n",
              "│ gru_1 (\u001b[38;5;33mGRU\u001b[0m)         │ (\u001b[38;5;45mNone\u001b[0m, \u001b[38;5;34m32\u001b[0m)        │      \u001b[38;5;34m9,408\u001b[0m │ gru[\u001b[38;5;34m0\u001b[0m][\u001b[38;5;34m0\u001b[0m]         │\n",
              "├─────────────────────┼───────────────────┼────────────┼───────────────────┤\n",
              "│ dense (\u001b[38;5;33mDense\u001b[0m)       │ (\u001b[38;5;45mNone\u001b[0m, \u001b[38;5;34m32\u001b[0m)        │      \u001b[38;5;34m1,056\u001b[0m │ gru_1[\u001b[38;5;34m0\u001b[0m][\u001b[38;5;34m0\u001b[0m]       │\n",
              "├─────────────────────┼───────────────────┼────────────┼───────────────────┤\n",
              "│ dropout (\u001b[38;5;33mDropout\u001b[0m)   │ (\u001b[38;5;45mNone\u001b[0m, \u001b[38;5;34m32\u001b[0m)        │          \u001b[38;5;34m0\u001b[0m │ dense[\u001b[38;5;34m0\u001b[0m][\u001b[38;5;34m0\u001b[0m]       │\n",
              "├─────────────────────┼───────────────────┼────────────┼───────────────────┤\n",
              "│ dense_1 (\u001b[38;5;33mDense\u001b[0m)     │ (\u001b[38;5;45mNone\u001b[0m, \u001b[38;5;34m16\u001b[0m)        │        \u001b[38;5;34m528\u001b[0m │ dropout[\u001b[38;5;34m0\u001b[0m][\u001b[38;5;34m0\u001b[0m]     │\n",
              "├─────────────────────┼───────────────────┼────────────┼───────────────────┤\n",
              "│ dense_2 (\u001b[38;5;33mDense\u001b[0m)     │ (\u001b[38;5;45mNone\u001b[0m, \u001b[38;5;34m2\u001b[0m)         │         \u001b[38;5;34m34\u001b[0m │ dense_1[\u001b[38;5;34m0\u001b[0m][\u001b[38;5;34m0\u001b[0m]     │\n",
              "└─────────────────────┴───────────────────┴────────────┴───────────────────┘\n"
            ],
            "text/html": [
              "<pre style=\"white-space:pre;overflow-x:auto;line-height:normal;font-family:Menlo,'DejaVu Sans Mono',consolas,'Courier New',monospace\">┏━━━━━━━━━━━━━━━━━━━━━┳━━━━━━━━━━━━━━━━━━━┳━━━━━━━━━━━━┳━━━━━━━━━━━━━━━━━━━┓\n",
              "┃<span style=\"font-weight: bold\"> Layer (type)        </span>┃<span style=\"font-weight: bold\"> Output Shape      </span>┃<span style=\"font-weight: bold\">    Param # </span>┃<span style=\"font-weight: bold\"> Connected to      </span>┃\n",
              "┡━━━━━━━━━━━━━━━━━━━━━╇━━━━━━━━━━━━━━━━━━━╇━━━━━━━━━━━━╇━━━━━━━━━━━━━━━━━━━┩\n",
              "│ frame_features      │ (<span style=\"color: #00d7ff; text-decoration-color: #00d7ff\">None</span>, <span style=\"color: #00af00; text-decoration-color: #00af00\">20</span>, <span style=\"color: #00af00; text-decoration-color: #00af00\">2048</span>)  │          <span style=\"color: #00af00; text-decoration-color: #00af00\">0</span> │ -                 │\n",
              "│ (<span style=\"color: #0087ff; text-decoration-color: #0087ff\">InputLayer</span>)        │                   │            │                   │\n",
              "├─────────────────────┼───────────────────┼────────────┼───────────────────┤\n",
              "│ mask (<span style=\"color: #0087ff; text-decoration-color: #0087ff\">InputLayer</span>)   │ (<span style=\"color: #00d7ff; text-decoration-color: #00d7ff\">None</span>, <span style=\"color: #00af00; text-decoration-color: #00af00\">20</span>)        │          <span style=\"color: #00af00; text-decoration-color: #00af00\">0</span> │ -                 │\n",
              "├─────────────────────┼───────────────────┼────────────┼───────────────────┤\n",
              "│ gru (<span style=\"color: #0087ff; text-decoration-color: #0087ff\">GRU</span>)           │ (<span style=\"color: #00d7ff; text-decoration-color: #00d7ff\">None</span>, <span style=\"color: #00af00; text-decoration-color: #00af00\">20</span>, <span style=\"color: #00af00; text-decoration-color: #00af00\">64</span>)    │    <span style=\"color: #00af00; text-decoration-color: #00af00\">405,888</span> │ frame_features[<span style=\"color: #00af00; text-decoration-color: #00af00\">0</span>… │\n",
              "│                     │                   │            │ mask[<span style=\"color: #00af00; text-decoration-color: #00af00\">0</span>][<span style=\"color: #00af00; text-decoration-color: #00af00\">0</span>]        │\n",
              "├─────────────────────┼───────────────────┼────────────┼───────────────────┤\n",
              "│ gru_1 (<span style=\"color: #0087ff; text-decoration-color: #0087ff\">GRU</span>)         │ (<span style=\"color: #00d7ff; text-decoration-color: #00d7ff\">None</span>, <span style=\"color: #00af00; text-decoration-color: #00af00\">32</span>)        │      <span style=\"color: #00af00; text-decoration-color: #00af00\">9,408</span> │ gru[<span style=\"color: #00af00; text-decoration-color: #00af00\">0</span>][<span style=\"color: #00af00; text-decoration-color: #00af00\">0</span>]         │\n",
              "├─────────────────────┼───────────────────┼────────────┼───────────────────┤\n",
              "│ dense (<span style=\"color: #0087ff; text-decoration-color: #0087ff\">Dense</span>)       │ (<span style=\"color: #00d7ff; text-decoration-color: #00d7ff\">None</span>, <span style=\"color: #00af00; text-decoration-color: #00af00\">32</span>)        │      <span style=\"color: #00af00; text-decoration-color: #00af00\">1,056</span> │ gru_1[<span style=\"color: #00af00; text-decoration-color: #00af00\">0</span>][<span style=\"color: #00af00; text-decoration-color: #00af00\">0</span>]       │\n",
              "├─────────────────────┼───────────────────┼────────────┼───────────────────┤\n",
              "│ dropout (<span style=\"color: #0087ff; text-decoration-color: #0087ff\">Dropout</span>)   │ (<span style=\"color: #00d7ff; text-decoration-color: #00d7ff\">None</span>, <span style=\"color: #00af00; text-decoration-color: #00af00\">32</span>)        │          <span style=\"color: #00af00; text-decoration-color: #00af00\">0</span> │ dense[<span style=\"color: #00af00; text-decoration-color: #00af00\">0</span>][<span style=\"color: #00af00; text-decoration-color: #00af00\">0</span>]       │\n",
              "├─────────────────────┼───────────────────┼────────────┼───────────────────┤\n",
              "│ dense_1 (<span style=\"color: #0087ff; text-decoration-color: #0087ff\">Dense</span>)     │ (<span style=\"color: #00d7ff; text-decoration-color: #00d7ff\">None</span>, <span style=\"color: #00af00; text-decoration-color: #00af00\">16</span>)        │        <span style=\"color: #00af00; text-decoration-color: #00af00\">528</span> │ dropout[<span style=\"color: #00af00; text-decoration-color: #00af00\">0</span>][<span style=\"color: #00af00; text-decoration-color: #00af00\">0</span>]     │\n",
              "├─────────────────────┼───────────────────┼────────────┼───────────────────┤\n",
              "│ dense_2 (<span style=\"color: #0087ff; text-decoration-color: #0087ff\">Dense</span>)     │ (<span style=\"color: #00d7ff; text-decoration-color: #00d7ff\">None</span>, <span style=\"color: #00af00; text-decoration-color: #00af00\">2</span>)         │         <span style=\"color: #00af00; text-decoration-color: #00af00\">34</span> │ dense_1[<span style=\"color: #00af00; text-decoration-color: #00af00\">0</span>][<span style=\"color: #00af00; text-decoration-color: #00af00\">0</span>]     │\n",
              "└─────────────────────┴───────────────────┴────────────┴───────────────────┘\n",
              "</pre>\n"
            ]
          },
          "metadata": {}
        },
        {
          "output_type": "display_data",
          "data": {
            "text/plain": [
              "\u001b[1m Total params: \u001b[0m\u001b[38;5;34m416,914\u001b[0m (1.59 MB)\n"
            ],
            "text/html": [
              "<pre style=\"white-space:pre;overflow-x:auto;line-height:normal;font-family:Menlo,'DejaVu Sans Mono',consolas,'Courier New',monospace\"><span style=\"font-weight: bold\"> Total params: </span><span style=\"color: #00af00; text-decoration-color: #00af00\">416,914</span> (1.59 MB)\n",
              "</pre>\n"
            ]
          },
          "metadata": {}
        },
        {
          "output_type": "display_data",
          "data": {
            "text/plain": [
              "\u001b[1m Trainable params: \u001b[0m\u001b[38;5;34m416,914\u001b[0m (1.59 MB)\n"
            ],
            "text/html": [
              "<pre style=\"white-space:pre;overflow-x:auto;line-height:normal;font-family:Menlo,'DejaVu Sans Mono',consolas,'Courier New',monospace\"><span style=\"font-weight: bold\"> Trainable params: </span><span style=\"color: #00af00; text-decoration-color: #00af00\">416,914</span> (1.59 MB)\n",
              "</pre>\n"
            ]
          },
          "metadata": {}
        },
        {
          "output_type": "display_data",
          "data": {
            "text/plain": [
              "\u001b[1m Non-trainable params: \u001b[0m\u001b[38;5;34m0\u001b[0m (0.00 B)\n"
            ],
            "text/html": [
              "<pre style=\"white-space:pre;overflow-x:auto;line-height:normal;font-family:Menlo,'DejaVu Sans Mono',consolas,'Courier New',monospace\"><span style=\"font-weight: bold\"> Non-trainable params: </span><span style=\"color: #00af00; text-decoration-color: #00af00\">0</span> (0.00 B)\n",
              "</pre>\n"
            ]
          },
          "metadata": {}
        }
      ]
    },
    {
      "cell_type": "markdown",
      "source": [
        "---"
      ],
      "metadata": {
        "id": "eKG9dr20D0fe"
      }
    },
    {
      "cell_type": "markdown",
      "source": [
        "## 9. Training"
      ],
      "metadata": {
        "id": "Y0EbgYEaD1IB"
      }
    },
    {
      "cell_type": "code",
      "source": [
        "def train_model_colab(model, train_data, validation_split=0.2, epochs=EPOCHS):\n",
        "    \"\"\"Train the sequence model with Colab-optimized callbacks\"\"\"\n",
        "\n",
        "    X_train_features, X_train_masks, y_train = train_data\n",
        "\n",
        "    # Define callbacks optimized for Colab\n",
        "    model_path = os.path.join(DATASETS_DIR, \"best_shoplifting_model.keras\")\n",
        "\n",
        "    callbacks = [\n",
        "        keras.callbacks.ModelCheckpoint(\n",
        "            filepath=model_path,\n",
        "            monitor='val_accuracy',\n",
        "            verbose=1,\n",
        "            save_best_only=True,\n",
        "            mode='max',\n",
        "        ),\n",
        "        keras.callbacks.EarlyStopping(\n",
        "            monitor='val_accuracy',\n",
        "            patience=10,  # Reduced patience for Colab\n",
        "            restore_best_weights=True,\n",
        "            verbose=1\n",
        "        ),\n",
        "        keras.callbacks.ReduceLROnPlateau(\n",
        "            monitor='val_accuracy',\n",
        "            factor=0.3,\n",
        "            patience=5,\n",
        "            min_lr=1e-7,\n",
        "            verbose=1\n",
        "        ),\n",
        "        # Colab-specific: Clear output periodically to avoid disconnection\n",
        "        keras.callbacks.LambdaCallback(\n",
        "            on_epoch_end=lambda epoch, logs: print(f\"Epoch {epoch+1} complete - Val Accuracy: {logs.get('val_accuracy', 0):.4f}\")\n",
        "        )\n",
        "    ]\n",
        "\n",
        "    print(\"🚀 Starting model training...\")\n",
        "    print(f\"📊 Training samples: {len(X_train_features)}\")\n",
        "    print(f\"🎯 Target epochs: {epochs}\")\n",
        "    print(\"💡 Training progress will be displayed below\")\n",
        "\n",
        "    # Train model\n",
        "    try:\n",
        "        history = model.fit(\n",
        "            [X_train_features, X_train_masks],\n",
        "            y_train,\n",
        "            validation_split=validation_split,\n",
        "            epochs=epochs,\n",
        "            batch_size=BATCH_SIZE,\n",
        "            callbacks=callbacks,\n",
        "            verbose=1\n",
        "        )\n",
        "\n",
        "        # Load best model\n",
        "        model.load_weights(model_path)\n",
        "        print(f\"✅ Training complete! Best model saved to Google Drive: {model_path}\")\n",
        "\n",
        "    except Exception as e:\n",
        "        print(f\"❌ Training interrupted: {e}\")\n",
        "        # Try to save current state\n",
        "        emergency_path = os.path.join(DATASETS_DIR, \"emergency_model.keras\")\n",
        "        model.save(emergency_path)\n",
        "        print(f\"💾 Emergency save to: {emergency_path}\")\n",
        "        raise e\n",
        "\n",
        "    return history, model"
      ],
      "metadata": {
        "id": "3W35ChHqD0xj"
      },
      "execution_count": 35,
      "outputs": []
    },
    {
      "cell_type": "code",
      "source": [
        "def plot_training_history_colab(history):\n",
        "    \"\"\"Plot training history optimized for Colab display\"\"\"\n",
        "\n",
        "    plt.style.use('default')\n",
        "    fig, axes = plt.subplots(1, 2, figsize=(15, 5))\n",
        "\n",
        "    # Plot loss\n",
        "    axes[0].plot(history.history['loss'], label='Training Loss', linewidth=2, color='blue')\n",
        "    axes[0].plot(history.history['val_loss'], label='Validation Loss', linewidth=2, color='red')\n",
        "    axes[0].set_title('Model Loss', fontsize=14, fontweight='bold')\n",
        "    axes[0].set_xlabel('Epoch', fontsize=12)\n",
        "    axes[0].set_ylabel('Loss', fontsize=12)\n",
        "    axes[0].legend(fontsize=10)\n",
        "    axes[0].grid(True, alpha=0.3)\n",
        "\n",
        "    # Plot accuracy\n",
        "    axes[1].plot(history.history['accuracy'], label='Training Accuracy', linewidth=2, color='blue')\n",
        "    axes[1].plot(history.history['val_accuracy'], label='Validation Accuracy', linewidth=2, color='red')\n",
        "    axes[1].set_title('Model Accuracy', fontsize=14, fontweight='bold')\n",
        "    axes[1].set_xlabel('Epoch', fontsize=12)\n",
        "    axes[1].set_ylabel('Accuracy', fontsize=12)\n",
        "    axes[1].legend(fontsize=10)\n",
        "    axes[1].grid(True, alpha=0.3)\n",
        "\n",
        "    plt.tight_layout()\n",
        "\n",
        "    # Save to Google Drive\n",
        "    plot_path = os.path.join(DATASETS_DIR, 'training_history.png')\n",
        "    plt.savefig(plot_path, dpi=300, bbox_inches='tight')\n",
        "    print(f\"📊 Training plots saved to: {plot_path}\")\n",
        "\n",
        "    plt.show()\n",
        "\n",
        "    # Print summary\n",
        "    best_val_acc = max(history.history['val_accuracy'])\n",
        "    best_epoch = history.history['val_accuracy'].index(best_val_acc) + 1\n",
        "    final_train_acc = history.history['accuracy'][-1]\n",
        "\n",
        "    print(f\"\\n📈 TRAINING SUMMARY:\")\n",
        "    print(f\"   Best Validation Accuracy: {best_val_acc:.4f} (Epoch {best_epoch})\")\n",
        "    print(f\"   Final Training Accuracy: {final_train_acc:.4f}\")\n",
        "    print(f\"   Total Epochs: {len(history.history['loss'])}\")"
      ],
      "metadata": {
        "id": "_JE6rGHZD7kS"
      },
      "execution_count": 36,
      "outputs": []
    },
    {
      "cell_type": "code",
      "source": [
        "# Train model\n",
        "if 'seq_model' in locals() and 'prepared_data' in locals():\n",
        "    train_data = (X_train_features, X_train_masks, y_train)\n",
        "\n",
        "    print(\"🎯 Starting training process...\")\n",
        "    history, trained_model = train_model_colab(seq_model, train_data)\n",
        "\n",
        "    # Plot results\n",
        "    plot_training_history_colab(history)\n",
        "\n",
        "    print(\"✅ Model training completed successfully!\")\n",
        "\n",
        "else:\n",
        "    print(\"⚠️  Skipping training - model or data not ready\")"
      ],
      "metadata": {
        "colab": {
          "base_uri": "https://localhost:8080/",
          "height": 1000
        },
        "id": "i3LSCeI8D9vu",
        "outputId": "4f84547c-f8f9-4503-ca56-424ac9672d16"
      },
      "execution_count": 37,
      "outputs": [
        {
          "output_type": "stream",
          "name": "stdout",
          "text": [
            "🎯 Starting training process...\n",
            "🚀 Starting model training...\n",
            "📊 Training samples: 684\n",
            "🎯 Target epochs: 50\n",
            "💡 Training progress will be displayed below\n",
            "Epoch 1/50\n",
            "\u001b[1m35/35\u001b[0m \u001b[32m━━━━━━━━━━━━━━━━━━━━\u001b[0m\u001b[37m\u001b[0m \u001b[1m0s\u001b[0m 168ms/step - accuracy: 0.6096 - loss: 0.6849\n",
            "Epoch 1: val_accuracy improved from -inf to 0.61314, saving model to /content/drive/MyDrive/Datasets/best_shoplifting_model.keras\n",
            "Epoch 1 complete - Val Accuracy: 0.6131\n",
            "\u001b[1m35/35\u001b[0m \u001b[32m━━━━━━━━━━━━━━━━━━━━\u001b[0m\u001b[37m\u001b[0m \u001b[1m18s\u001b[0m 208ms/step - accuracy: 0.6097 - loss: 0.6847 - val_accuracy: 0.6131 - val_loss: 0.6671 - learning_rate: 0.0010\n",
            "Epoch 2/50\n",
            "\u001b[1m35/35\u001b[0m \u001b[32m━━━━━━━━━━━━━━━━━━━━\u001b[0m\u001b[37m\u001b[0m \u001b[1m0s\u001b[0m 118ms/step - accuracy: 0.6235 - loss: 0.6592\n",
            "Epoch 2: val_accuracy did not improve from 0.61314\n",
            "Epoch 2 complete - Val Accuracy: 0.6131\n",
            "\u001b[1m35/35\u001b[0m \u001b[32m━━━━━━━━━━━━━━━━━━━━\u001b[0m\u001b[37m\u001b[0m \u001b[1m14s\u001b[0m 128ms/step - accuracy: 0.6234 - loss: 0.6592 - val_accuracy: 0.6131 - val_loss: 0.6104 - learning_rate: 0.0010\n",
            "Epoch 3/50\n",
            "\u001b[1m35/35\u001b[0m \u001b[32m━━━━━━━━━━━━━━━━━━━━\u001b[0m\u001b[37m\u001b[0m \u001b[1m0s\u001b[0m 119ms/step - accuracy: 0.6544 - loss: 0.5966\n",
            "Epoch 3: val_accuracy improved from 0.61314 to 0.82482, saving model to /content/drive/MyDrive/Datasets/best_shoplifting_model.keras\n",
            "Epoch 3 complete - Val Accuracy: 0.8248\n",
            "\u001b[1m35/35\u001b[0m \u001b[32m━━━━━━━━━━━━━━━━━━━━\u001b[0m\u001b[37m\u001b[0m \u001b[1m5s\u001b[0m 133ms/step - accuracy: 0.6546 - loss: 0.5964 - val_accuracy: 0.8248 - val_loss: 0.4666 - learning_rate: 0.0010\n",
            "Epoch 4/50\n",
            "\u001b[1m35/35\u001b[0m \u001b[32m━━━━━━━━━━━━━━━━━━━━\u001b[0m\u001b[37m\u001b[0m \u001b[1m0s\u001b[0m 152ms/step - accuracy: 0.7574 - loss: 0.5106\n",
            "Epoch 4: val_accuracy improved from 0.82482 to 0.89051, saving model to /content/drive/MyDrive/Datasets/best_shoplifting_model.keras\n",
            "Epoch 4 complete - Val Accuracy: 0.8905\n",
            "\u001b[1m35/35\u001b[0m \u001b[32m━━━━━━━━━━━━━━━━━━━━\u001b[0m\u001b[37m\u001b[0m \u001b[1m6s\u001b[0m 164ms/step - accuracy: 0.7571 - loss: 0.5110 - val_accuracy: 0.8905 - val_loss: 0.3569 - learning_rate: 0.0010\n",
            "Epoch 5/50\n",
            "\u001b[1m35/35\u001b[0m \u001b[32m━━━━━━━━━━━━━━━━━━━━\u001b[0m\u001b[37m\u001b[0m \u001b[1m0s\u001b[0m 161ms/step - accuracy: 0.8258 - loss: 0.4173\n",
            "Epoch 5: val_accuracy improved from 0.89051 to 0.89781, saving model to /content/drive/MyDrive/Datasets/best_shoplifting_model.keras\n",
            "Epoch 5 complete - Val Accuracy: 0.8978\n",
            "\u001b[1m35/35\u001b[0m \u001b[32m━━━━━━━━━━━━━━━━━━━━\u001b[0m\u001b[37m\u001b[0m \u001b[1m11s\u001b[0m 184ms/step - accuracy: 0.8263 - loss: 0.4169 - val_accuracy: 0.8978 - val_loss: 0.3043 - learning_rate: 0.0010\n",
            "Epoch 6/50\n",
            "\u001b[1m35/35\u001b[0m \u001b[32m━━━━━━━━━━━━━━━━━━━━\u001b[0m\u001b[37m\u001b[0m \u001b[1m0s\u001b[0m 120ms/step - accuracy: 0.8556 - loss: 0.3705\n",
            "Epoch 6: val_accuracy improved from 0.89781 to 0.93431, saving model to /content/drive/MyDrive/Datasets/best_shoplifting_model.keras\n",
            "Epoch 6 complete - Val Accuracy: 0.9343\n",
            "\u001b[1m35/35\u001b[0m \u001b[32m━━━━━━━━━━━━━━━━━━━━\u001b[0m\u001b[37m\u001b[0m \u001b[1m8s\u001b[0m 133ms/step - accuracy: 0.8555 - loss: 0.3708 - val_accuracy: 0.9343 - val_loss: 0.2402 - learning_rate: 0.0010\n",
            "Epoch 7/50\n",
            "\u001b[1m35/35\u001b[0m \u001b[32m━━━━━━━━━━━━━━━━━━━━\u001b[0m\u001b[37m\u001b[0m \u001b[1m0s\u001b[0m 165ms/step - accuracy: 0.8945 - loss: 0.3119\n",
            "Epoch 7: val_accuracy did not improve from 0.93431\n",
            "Epoch 7 complete - Val Accuracy: 0.9270\n",
            "\u001b[1m35/35\u001b[0m \u001b[32m━━━━━━━━━━━━━━━━━━━━\u001b[0m\u001b[37m\u001b[0m \u001b[1m7s\u001b[0m 175ms/step - accuracy: 0.8937 - loss: 0.3125 - val_accuracy: 0.9270 - val_loss: 0.2027 - learning_rate: 0.0010\n",
            "Epoch 8/50\n",
            "\u001b[1m35/35\u001b[0m \u001b[32m━━━━━━━━━━━━━━━━━━━━\u001b[0m\u001b[37m\u001b[0m \u001b[1m0s\u001b[0m 133ms/step - accuracy: 0.8683 - loss: 0.2936\n",
            "Epoch 8: val_accuracy improved from 0.93431 to 0.95620, saving model to /content/drive/MyDrive/Datasets/best_shoplifting_model.keras\n",
            "Epoch 8 complete - Val Accuracy: 0.9562\n",
            "\u001b[1m35/35\u001b[0m \u001b[32m━━━━━━━━━━━━━━━━━━━━\u001b[0m\u001b[37m\u001b[0m \u001b[1m10s\u001b[0m 156ms/step - accuracy: 0.8688 - loss: 0.2929 - val_accuracy: 0.9562 - val_loss: 0.2014 - learning_rate: 0.0010\n",
            "Epoch 9/50\n",
            "\u001b[1m35/35\u001b[0m \u001b[32m━━━━━━━━━━━━━━━━━━━━\u001b[0m\u001b[37m\u001b[0m \u001b[1m0s\u001b[0m 139ms/step - accuracy: 0.8909 - loss: 0.3029\n",
            "Epoch 9: val_accuracy did not improve from 0.95620\n",
            "Epoch 9 complete - Val Accuracy: 0.9489\n",
            "\u001b[1m35/35\u001b[0m \u001b[32m━━━━━━━━━━━━━━━━━━━━\u001b[0m\u001b[37m\u001b[0m \u001b[1m10s\u001b[0m 147ms/step - accuracy: 0.8907 - loss: 0.3032 - val_accuracy: 0.9489 - val_loss: 0.1435 - learning_rate: 0.0010\n",
            "Epoch 10/50\n",
            "\u001b[1m35/35\u001b[0m \u001b[32m━━━━━━━━━━━━━━━━━━━━\u001b[0m\u001b[37m\u001b[0m \u001b[1m0s\u001b[0m 165ms/step - accuracy: 0.9116 - loss: 0.2200\n",
            "Epoch 10: val_accuracy improved from 0.95620 to 0.96350, saving model to /content/drive/MyDrive/Datasets/best_shoplifting_model.keras\n",
            "Epoch 10 complete - Val Accuracy: 0.9635\n",
            "\u001b[1m35/35\u001b[0m \u001b[32m━━━━━━━━━━━━━━━━━━━━\u001b[0m\u001b[37m\u001b[0m \u001b[1m6s\u001b[0m 177ms/step - accuracy: 0.9116 - loss: 0.2198 - val_accuracy: 0.9635 - val_loss: 0.0958 - learning_rate: 0.0010\n",
            "Epoch 11/50\n",
            "\u001b[1m35/35\u001b[0m \u001b[32m━━━━━━━━━━━━━━━━━━━━\u001b[0m\u001b[37m\u001b[0m \u001b[1m0s\u001b[0m 119ms/step - accuracy: 0.9640 - loss: 0.1302\n",
            "Epoch 11: val_accuracy did not improve from 0.96350\n",
            "Epoch 11 complete - Val Accuracy: 0.9197\n",
            "\u001b[1m35/35\u001b[0m \u001b[32m━━━━━━━━━━━━━━━━━━━━\u001b[0m\u001b[37m\u001b[0m \u001b[1m9s\u001b[0m 139ms/step - accuracy: 0.9637 - loss: 0.1308 - val_accuracy: 0.9197 - val_loss: 0.2112 - learning_rate: 0.0010\n",
            "Epoch 12/50\n",
            "\u001b[1m35/35\u001b[0m \u001b[32m━━━━━━━━━━━━━━━━━━━━\u001b[0m\u001b[37m\u001b[0m \u001b[1m0s\u001b[0m 156ms/step - accuracy: 0.9342 - loss: 0.1479\n",
            "Epoch 12: val_accuracy improved from 0.96350 to 0.97810, saving model to /content/drive/MyDrive/Datasets/best_shoplifting_model.keras\n",
            "Epoch 12 complete - Val Accuracy: 0.9781\n",
            "\u001b[1m35/35\u001b[0m \u001b[32m━━━━━━━━━━━━━━━━━━━━\u001b[0m\u001b[37m\u001b[0m \u001b[1m6s\u001b[0m 167ms/step - accuracy: 0.9346 - loss: 0.1474 - val_accuracy: 0.9781 - val_loss: 0.0421 - learning_rate: 0.0010\n",
            "Epoch 13/50\n",
            "\u001b[1m35/35\u001b[0m \u001b[32m━━━━━━━━━━━━━━━━━━━━\u001b[0m\u001b[37m\u001b[0m \u001b[1m0s\u001b[0m 119ms/step - accuracy: 0.9559 - loss: 0.1465\n",
            "Epoch 13: val_accuracy did not improve from 0.97810\n",
            "Epoch 13 complete - Val Accuracy: 0.9562\n",
            "\u001b[1m35/35\u001b[0m \u001b[32m━━━━━━━━━━━━━━━━━━━━\u001b[0m\u001b[37m\u001b[0m \u001b[1m4s\u001b[0m 127ms/step - accuracy: 0.9553 - loss: 0.1481 - val_accuracy: 0.9562 - val_loss: 0.1516 - learning_rate: 0.0010\n",
            "Epoch 14/50\n",
            "\u001b[1m35/35\u001b[0m \u001b[32m━━━━━━━━━━━━━━━━━━━━\u001b[0m\u001b[37m\u001b[0m \u001b[1m0s\u001b[0m 169ms/step - accuracy: 0.9571 - loss: 0.1315\n",
            "Epoch 14: val_accuracy did not improve from 0.97810\n",
            "Epoch 14 complete - Val Accuracy: 0.9562\n",
            "\u001b[1m35/35\u001b[0m \u001b[32m━━━━━━━━━━━━━━━━━━━━\u001b[0m\u001b[37m\u001b[0m \u001b[1m7s\u001b[0m 178ms/step - accuracy: 0.9570 - loss: 0.1318 - val_accuracy: 0.9562 - val_loss: 0.1047 - learning_rate: 0.0010\n",
            "Epoch 15/50\n",
            "\u001b[1m35/35\u001b[0m \u001b[32m━━━━━━━━━━━━━━━━━━━━\u001b[0m\u001b[37m\u001b[0m \u001b[1m0s\u001b[0m 121ms/step - accuracy: 0.9013 - loss: 0.2539\n",
            "Epoch 15: val_accuracy did not improve from 0.97810\n",
            "Epoch 15 complete - Val Accuracy: 0.9343\n",
            "\u001b[1m35/35\u001b[0m \u001b[32m━━━━━━━━━━━━━━━━━━━━\u001b[0m\u001b[37m\u001b[0m \u001b[1m9s\u001b[0m 131ms/step - accuracy: 0.9014 - loss: 0.2536 - val_accuracy: 0.9343 - val_loss: 0.1352 - learning_rate: 0.0010\n",
            "Epoch 16/50\n",
            "\u001b[1m35/35\u001b[0m \u001b[32m━━━━━━━━━━━━━━━━━━━━\u001b[0m\u001b[37m\u001b[0m \u001b[1m0s\u001b[0m 162ms/step - accuracy: 0.9513 - loss: 0.1449\n",
            "Epoch 16: val_accuracy improved from 0.97810 to 0.98540, saving model to /content/drive/MyDrive/Datasets/best_shoplifting_model.keras\n",
            "Epoch 16 complete - Val Accuracy: 0.9854\n",
            "\u001b[1m35/35\u001b[0m \u001b[32m━━━━━━━━━━━━━━━━━━━━\u001b[0m\u001b[37m\u001b[0m \u001b[1m7s\u001b[0m 172ms/step - accuracy: 0.9517 - loss: 0.1440 - val_accuracy: 0.9854 - val_loss: 0.0401 - learning_rate: 0.0010\n",
            "Epoch 17/50\n",
            "\u001b[1m35/35\u001b[0m \u001b[32m━━━━━━━━━━━━━━━━━━━━\u001b[0m\u001b[37m\u001b[0m \u001b[1m0s\u001b[0m 120ms/step - accuracy: 0.9481 - loss: 0.1214\n",
            "Epoch 17: val_accuracy improved from 0.98540 to 0.99270, saving model to /content/drive/MyDrive/Datasets/best_shoplifting_model.keras\n",
            "Epoch 17 complete - Val Accuracy: 0.9927\n",
            "\u001b[1m35/35\u001b[0m \u001b[32m━━━━━━━━━━━━━━━━━━━━\u001b[0m\u001b[37m\u001b[0m \u001b[1m5s\u001b[0m 132ms/step - accuracy: 0.9484 - loss: 0.1211 - val_accuracy: 0.9927 - val_loss: 0.0256 - learning_rate: 0.0010\n",
            "Epoch 18/50\n",
            "\u001b[1m35/35\u001b[0m \u001b[32m━━━━━━━━━━━━━━━━━━━━\u001b[0m\u001b[37m\u001b[0m \u001b[1m0s\u001b[0m 165ms/step - accuracy: 0.9674 - loss: 0.0887\n",
            "Epoch 18: val_accuracy did not improve from 0.99270\n",
            "Epoch 18 complete - Val Accuracy: 0.9854\n",
            "\u001b[1m35/35\u001b[0m \u001b[32m━━━━━━━━━━━━━━━━━━━━\u001b[0m\u001b[37m\u001b[0m \u001b[1m7s\u001b[0m 175ms/step - accuracy: 0.9675 - loss: 0.0885 - val_accuracy: 0.9854 - val_loss: 0.0400 - learning_rate: 0.0010\n",
            "Epoch 19/50\n",
            "\u001b[1m35/35\u001b[0m \u001b[32m━━━━━━━━━━━━━━━━━━━━\u001b[0m\u001b[37m\u001b[0m \u001b[1m0s\u001b[0m 120ms/step - accuracy: 0.9415 - loss: 0.1333\n",
            "Epoch 19: val_accuracy did not improve from 0.99270\n",
            "Epoch 19 complete - Val Accuracy: 0.9197\n",
            "\u001b[1m35/35\u001b[0m \u001b[32m━━━━━━━━━━━━━━━━━━━━\u001b[0m\u001b[37m\u001b[0m \u001b[1m9s\u001b[0m 128ms/step - accuracy: 0.9416 - loss: 0.1334 - val_accuracy: 0.9197 - val_loss: 0.2497 - learning_rate: 0.0010\n",
            "Epoch 20/50\n",
            "\u001b[1m35/35\u001b[0m \u001b[32m━━━━━━━━━━━━━━━━━━━━\u001b[0m\u001b[37m\u001b[0m \u001b[1m0s\u001b[0m 167ms/step - accuracy: 0.9643 - loss: 0.1268\n",
            "Epoch 20: val_accuracy did not improve from 0.99270\n",
            "Epoch 20 complete - Val Accuracy: 0.9927\n",
            "\u001b[1m35/35\u001b[0m \u001b[32m━━━━━━━━━━━━━━━━━━━━\u001b[0m\u001b[37m\u001b[0m \u001b[1m7s\u001b[0m 175ms/step - accuracy: 0.9646 - loss: 0.1257 - val_accuracy: 0.9927 - val_loss: 0.0279 - learning_rate: 0.0010\n",
            "Epoch 21/50\n",
            "\u001b[1m35/35\u001b[0m \u001b[32m━━━━━━━━━━━━━━━━━━━━\u001b[0m\u001b[37m\u001b[0m \u001b[1m0s\u001b[0m 121ms/step - accuracy: 0.9633 - loss: 0.1272\n",
            "Epoch 21: val_accuracy did not improve from 0.99270\n",
            "Epoch 21 complete - Val Accuracy: 0.9854\n",
            "\u001b[1m35/35\u001b[0m \u001b[32m━━━━━━━━━━━━━━━━━━━━\u001b[0m\u001b[37m\u001b[0m \u001b[1m5s\u001b[0m 132ms/step - accuracy: 0.9636 - loss: 0.1261 - val_accuracy: 0.9854 - val_loss: 0.0549 - learning_rate: 0.0010\n",
            "Epoch 22/50\n",
            "\u001b[1m35/35\u001b[0m \u001b[32m━━━━━━━━━━━━━━━━━━━━\u001b[0m\u001b[37m\u001b[0m \u001b[1m0s\u001b[0m 148ms/step - accuracy: 0.9744 - loss: 0.0691\n",
            "Epoch 22: val_accuracy did not improve from 0.99270\n",
            "\n",
            "Epoch 22: ReduceLROnPlateau reducing learning rate to 0.0003000000142492354.\n",
            "Epoch 22 complete - Val Accuracy: 0.9854\n",
            "\u001b[1m35/35\u001b[0m \u001b[32m━━━━━━━━━━━━━━━━━━━━\u001b[0m\u001b[37m\u001b[0m \u001b[1m6s\u001b[0m 168ms/step - accuracy: 0.9744 - loss: 0.0691 - val_accuracy: 0.9854 - val_loss: 0.0438 - learning_rate: 0.0010\n",
            "Epoch 23/50\n",
            "\u001b[1m35/35\u001b[0m \u001b[32m━━━━━━━━━━━━━━━━━━━━\u001b[0m\u001b[37m\u001b[0m \u001b[1m0s\u001b[0m 120ms/step - accuracy: 0.9894 - loss: 0.0400\n",
            "Epoch 23: val_accuracy did not improve from 0.99270\n",
            "Epoch 23 complete - Val Accuracy: 0.9854\n",
            "\u001b[1m35/35\u001b[0m \u001b[32m━━━━━━━━━━━━━━━━━━━━\u001b[0m\u001b[37m\u001b[0m \u001b[1m9s\u001b[0m 129ms/step - accuracy: 0.9893 - loss: 0.0400 - val_accuracy: 0.9854 - val_loss: 0.0496 - learning_rate: 3.0000e-04\n",
            "Epoch 24/50\n",
            "\u001b[1m35/35\u001b[0m \u001b[32m━━━━━━━━━━━━━━━━━━━━\u001b[0m\u001b[37m\u001b[0m \u001b[1m0s\u001b[0m 165ms/step - accuracy: 0.9710 - loss: 0.0705\n",
            "Epoch 24: val_accuracy did not improve from 0.99270\n",
            "Epoch 24 complete - Val Accuracy: 0.9708\n",
            "\u001b[1m35/35\u001b[0m \u001b[32m━━━━━━━━━━━━━━━━━━━━\u001b[0m\u001b[37m\u001b[0m \u001b[1m7s\u001b[0m 175ms/step - accuracy: 0.9712 - loss: 0.0705 - val_accuracy: 0.9708 - val_loss: 0.0334 - learning_rate: 3.0000e-04\n",
            "Epoch 25/50\n",
            "\u001b[1m35/35\u001b[0m \u001b[32m━━━━━━━━━━━━━━━━━━━━\u001b[0m\u001b[37m\u001b[0m \u001b[1m0s\u001b[0m 119ms/step - accuracy: 0.9790 - loss: 0.0480\n",
            "Epoch 25: val_accuracy did not improve from 0.99270\n",
            "Epoch 25 complete - Val Accuracy: 0.9708\n",
            "\u001b[1m35/35\u001b[0m \u001b[32m━━━━━━━━━━━━━━━━━━━━\u001b[0m\u001b[37m\u001b[0m \u001b[1m9s\u001b[0m 133ms/step - accuracy: 0.9789 - loss: 0.0484 - val_accuracy: 0.9708 - val_loss: 0.0296 - learning_rate: 3.0000e-04\n",
            "Epoch 26/50\n",
            "\u001b[1m35/35\u001b[0m \u001b[32m━━━━━━━━━━━━━━━━━━━━\u001b[0m\u001b[37m\u001b[0m \u001b[1m0s\u001b[0m 149ms/step - accuracy: 0.9854 - loss: 0.0438\n",
            "Epoch 26: val_accuracy did not improve from 0.99270\n",
            "Epoch 26 complete - Val Accuracy: 0.9854\n",
            "\u001b[1m35/35\u001b[0m \u001b[32m━━━━━━━━━━━━━━━━━━━━\u001b[0m\u001b[37m\u001b[0m \u001b[1m6s\u001b[0m 157ms/step - accuracy: 0.9854 - loss: 0.0438 - val_accuracy: 0.9854 - val_loss: 0.0631 - learning_rate: 3.0000e-04\n",
            "Epoch 27/50\n",
            "\u001b[1m35/35\u001b[0m \u001b[32m━━━━━━━━━━━━━━━━━━━━\u001b[0m\u001b[37m\u001b[0m \u001b[1m0s\u001b[0m 168ms/step - accuracy: 0.9805 - loss: 0.0508\n",
            "Epoch 27: val_accuracy did not improve from 0.99270\n",
            "\n",
            "Epoch 27: ReduceLROnPlateau reducing learning rate to 9.000000427477062e-05.\n",
            "Epoch 27 complete - Val Accuracy: 0.9854\n",
            "\u001b[1m35/35\u001b[0m \u001b[32m━━━━━━━━━━━━━━━━━━━━\u001b[0m\u001b[37m\u001b[0m \u001b[1m11s\u001b[0m 176ms/step - accuracy: 0.9806 - loss: 0.0505 - val_accuracy: 0.9854 - val_loss: 0.0585 - learning_rate: 3.0000e-04\n",
            "Epoch 27: early stopping\n",
            "Restoring model weights from the end of the best epoch: 17.\n",
            "✅ Training complete! Best model saved to Google Drive: /content/drive/MyDrive/Datasets/best_shoplifting_model.keras\n",
            "📊 Training plots saved to: /content/drive/MyDrive/Datasets/training_history.png\n"
          ]
        },
        {
          "output_type": "display_data",
          "data": {
            "text/plain": [
              "<Figure size 1500x500 with 2 Axes>"
            ],
            "image/png": "[encoded data removed]"
          },
          "metadata": {}
        },
        {
          "output_type": "stream",
          "name": "stdout",
          "text": [
            "\n",
            "📈 TRAINING SUMMARY:\n",
            "   Best Validation Accuracy: 0.9927 (Epoch 17)\n",
            "   Final Training Accuracy: 0.9854\n",
            "   Total Epochs: 27\n",
            "✅ Model training completed successfully!\n"
          ]
        }
      ]
    },
    {
      "cell_type": "markdown",
      "source": [
        "---"
      ],
      "metadata": {
        "id": "74Biyb96D-i5"
      }
    },
    {
      "cell_type": "markdown",
      "source": [
        "## 10. Model Evaluation"
      ],
      "metadata": {
        "id": "n4eGV1E2D_H9"
      }
    },
    {
      "cell_type": "code",
      "source": [
        "def evaluate_model(model, test_data, label_processor):\n",
        "    \"\"\"Evaluate model on test set\"\"\"\n",
        "\n",
        "    X_test_features, X_test_masks, y_test = test_data\n",
        "\n",
        "    print(\"Evaluating model on test set...\")\n",
        "    test_loss, test_accuracy = model.evaluate(\n",
        "        [X_test_features, X_test_masks],\n",
        "        y_test,\n",
        "        verbose=1\n",
        "    )\n",
        "\n",
        "    print(f\"\\nTest Results:\")\n",
        "    print(f\"  Test Loss: {test_loss:.4f}\")\n",
        "    print(f\"  Test Accuracy: {test_accuracy:.4f} ({test_accuracy*100:.2f}%)\")\n",
        "\n",
        "    # Get predictions\n",
        "    predictions = model.predict([X_test_features, X_test_masks])\n",
        "    predicted_classes = np.argmax(predictions, axis=1)\n",
        "\n",
        "    # Classification report\n",
        "    from sklearn.metrics import classification_report, confusion_matrix\n",
        "    import seaborn as sns\n",
        "\n",
        "    class_names = label_processor.get_vocabulary()\n",
        "    print(f\"\\nClassification Report:\")\n",
        "    print(classification_report(y_test, predicted_classes, target_names=class_names))\n",
        "\n",
        "    # Confusion matrix\n",
        "    cm = confusion_matrix(y_test, predicted_classes)\n",
        "    plt.figure(figsize=(8, 6))\n",
        "    sns.heatmap(cm, annot=True, fmt='d', cmap='Blues',\n",
        "                xticklabels=class_names, yticklabels=class_names)\n",
        "    plt.title('Confusion Matrix')\n",
        "    plt.ylabel('True Label')\n",
        "    plt.xlabel('Predicted Label')\n",
        "    plt.savefig(os.path.join(DATASETS_DIR, 'confusion_matrix.png'), dpi=300, bbox_inches='tight')\n",
        "    print(f\"📊 Confusion matrix saved to Google Drive\")\n",
        "    plt.show()\n",
        "\n",
        "    return test_accuracy, predictions"
      ],
      "metadata": {
        "id": "TnBrg9X1D-zo"
      },
      "execution_count": 38,
      "outputs": []
    },
    {
      "cell_type": "code",
      "source": [
        "# Evaluate model\n",
        "if 'trained_model' in locals() and 'prepared_data' in locals():\n",
        "    test_data = (X_test_features, X_test_masks, y_test)\n",
        "    test_accuracy, predictions = evaluate_model(trained_model, test_data, feature_data['label_processor'])"
      ],
      "metadata": {
        "colab": {
          "base_uri": "https://localhost:8080/",
          "height": 894
        },
        "id": "oKxxXAPmEFqj",
        "outputId": "f643dfc2-a73f-4615-b4de-e4a155e99407"
      },
      "execution_count": 39,
      "outputs": [
        {
          "output_type": "stream",
          "name": "stdout",
          "text": [
            "Evaluating model on test set...\n",
            "\u001b[1m6/6\u001b[0m \u001b[32m━━━━━━━━━━━━━━━━━━━━\u001b[0m\u001b[37m\u001b[0m \u001b[1m0s\u001b[0m 46ms/step - accuracy: 1.0000 - loss: 0.0084\n",
            "\n",
            "Test Results:\n",
            "  Test Loss: 0.0089\n",
            "  Test Accuracy: 1.0000 (100.00%)\n",
            "\u001b[1m6/6\u001b[0m \u001b[32m━━━━━━━━━━━━━━━━━━━━\u001b[0m\u001b[37m\u001b[0m \u001b[1m2s\u001b[0m 185ms/step\n",
            "\n",
            "Classification Report:\n",
            "                  precision    recall  f1-score   support\n",
            "\n",
            "non shop lifters       1.00      1.00      1.00       106\n",
            "    shop lifters       1.00      1.00      1.00        65\n",
            "\n",
            "        accuracy                           1.00       171\n",
            "       macro avg       1.00      1.00      1.00       171\n",
            "    weighted avg       1.00      1.00      1.00       171\n",
            "\n",
            "📊 Confusion matrix saved to Google Drive\n"
          ]
        },
        {
          "output_type": "display_data",
          "data": {
            "text/plain": [
              "<Figure size 800x600 with 2 Axes>"
            ],
            "image/png": "[encoded data removed]"
          },
          "metadata": {}
        }
      ]
    },
    {
      "cell_type": "markdown",
      "source": [
        "---"
      ],
      "metadata": {
        "id": "JpTG7H08EJRC"
      }
    },
    {
      "cell_type": "markdown",
      "source": [
        "## 11. Save Final Model and Results"
      ],
      "metadata": {
        "id": "hdhf-rmOEJ-1"
      }
    },
    {
      "cell_type": "code",
      "source": [
        "def save_model_and_results_to_drive():\n",
        "    \"\"\"Save the complete model and preprocessing components to Google Drive\"\"\"\n",
        "\n",
        "    # Create results directory in Google Drive\n",
        "    results_dir = os.path.join(DATASETS_DIR, \"final_shoplifting_model\")\n",
        "    os.makedirs(results_dir, exist_ok=True)\n",
        "\n",
        "    if 'trained_model' in globals():\n",
        "        # Save the trained model\n",
        "        model_path = os.path.join(results_dir, \"shoplifting_detection_model.keras\")\n",
        "        trained_model.save(model_path)\n",
        "        print(f\"💾 Model saved to Google Drive: {model_path}\")\n",
        "\n",
        "        # Save preprocessing components\n",
        "        preprocessing_path = os.path.join(results_dir, \"preprocessing_components.pkl\")\n",
        "        preprocessing_components = {\n",
        "            'label_processor': feature_data['label_processor'],\n",
        "            'scaler': scaler,\n",
        "            'img_size': IMG_SIZE,\n",
        "            'max_seq_length': MAX_SEQ_LENGTH,\n",
        "            'num_features': NUM_FEATURES,\n",
        "            'batch_size': BATCH_SIZE,\n",
        "            'feature_batch_size': FEATURE_BATCH_SIZE\n",
        "        }\n",
        "\n",
        "        with open(preprocessing_path, 'wb') as f:\n",
        "            pickle.dump(preprocessing_components, f)\n",
        "        print(f\"🔧 Preprocessing components saved to Google Drive: {preprocessing_path}\")\n",
        "\n",
        "        # Save model summary as text\n",
        "        with open(os.path.join(results_dir, \"model_summary.txt\"), 'w') as f:\n",
        "            trained_model.summary(print_fn=lambda x: f.write(x + '\\n'))\n",
        "\n",
        "        # Create a comprehensive results summary\n",
        "        results_summary = {\n",
        "            'model_info': {\n",
        "                'architecture': 'ResNet50 + GRU',\n",
        "                'input_size': f\"{IMG_SIZE}x{IMG_SIZE}\",\n",
        "                'max_sequence_length': MAX_SEQ_LENGTH,\n",
        "                'feature_dimensions': NUM_FEATURES,\n",
        "                'total_parameters': trained_model.count_params()\n",
        "            },\n",
        "            'dataset_info': {\n",
        "                'total_videos': len(dataSet_df) if dataSet_df is not None else 0,\n",
        "                'classes': feature_data['label_processor'].get_vocabulary() if 'feature_data' in locals() else [],\n",
        "                'successful_extractions': feature_data.get('successful_videos', 0) if 'feature_data' in locals() else 0,\n",
        "                'train_samples': len(X_train_features) if 'X_train_features' in locals() else 0,\n",
        "                'test_samples': len(X_test_features) if 'X_test_features' in locals() else 0\n",
        "            },\n",
        "            'training_config': {\n",
        "                'epochs_target': EPOCHS,\n",
        "                'epochs_actual': len(history.history['loss']) if 'history' in locals() else 0,\n",
        "                'batch_size': BATCH_SIZE,\n",
        "                'feature_batch_size': FEATURE_BATCH_SIZE,\n",
        "                'early_stopping': True,\n",
        "                'learning_rate_reduction': True\n",
        "            },\n",
        "            'performance': {\n",
        "                'test_accuracy': float(test_accuracy) if 'test_accuracy' in locals() else 'Not available',\n",
        "                'best_val_accuracy': float(max(history.history['val_accuracy'])) if 'history' in locals() else 'Not available',\n",
        "                'final_train_accuracy': float(history.history['accuracy'][-1]) if 'history' in locals() else 'Not available'\n",
        "            },\n",
        "            'colab_info': {\n",
        "                'platform': 'Google Colab',\n",
        "                'gpu_used': tf.test.gpu_device_name() if tf.test.gpu_device_name() else 'CPU only',\n",
        "                'tensorflow_version': tf.__version__,\n",
        "                'keras_version': keras.__version__\n",
        "            }\n",
        "        }\n",
        "\n",
        "        import json\n",
        "        with open(os.path.join(results_dir, \"complete_results_summary.json\"), 'w') as f:\n",
        "            json.dump(results_summary, f, indent=2, default=str)\n",
        "\n",
        "        # Create a README file for the model\n",
        "        readme_content = f\"\"\"# Shoplifting Detection Model\n",
        "\n",
        "                            ## Model Overview\n",
        "                            - **Architecture**: ResNet50 (feature extraction) + GRU (sequence modeling)\n",
        "                            - **Input**: Video sequences of {MAX_SEQ_LENGTH} frames at {IMG_SIZE}x{IMG_SIZE} resolution\n",
        "                            - **Classes**: {', '.join(feature_data['label_processor'].get_vocabulary()) if 'feature_data' in locals() else 'N/A'}\n",
        "                            - **Test Accuracy**: {test_accuracy:.2%} if 'test_accuracy' in locals() else 'N/A'\n",
        "\n",
        "                            ## Files in this directory:\n",
        "                            - `shoplifting_detection_model.keras`: Main trained model\n",
        "                            - `preprocessing_components.pkl`: Scaler and label processor\n",
        "                            - `complete_results_summary.json`: Detailed training and performance metrics\n",
        "                            - `model_summary.txt`: Model architecture details\n",
        "                            - `README.md`: This file\n",
        "\n",
        "                            ## Usage:\n",
        "                            Load the model using the code in Section 13 of the notebook.\n",
        "\n",
        "                            ## Training Details:\n",
        "                            - Trained on Google Colab\n",
        "                            - Dataset: {len(dataSet_df)} videos ({feature_data.get('successful_videos', 0)} successfully processed)\n",
        "                            - Training samples: {len(X_train_features) if 'X_train_features' in locals() else 'N/A'}\n",
        "                            - Test samples: {len(X_test_features) if 'X_test_features' in locals() else 'N/A'}\n",
        "                            - GPU: {tf.test.gpu_device_name() if tf.test.gpu_device_name() else 'CPU only'}\n",
        "\n",
        "                            Generated automatically by the shoplifting detection notebook.\n",
        "                            \"\"\"\n",
        "\n",
        "        with open(os.path.join(results_dir, \"README.md\"), 'w') as f:\n",
        "            f.write(readme_content)\n",
        "\n",
        "        print(f\"📁 All files saved to Google Drive: {results_dir}\")\n",
        "\n",
        "        # Display final summary\n",
        "        print(\"\\n\" + \"=\"*60)\n",
        "        print(\"🎉 MODEL TRAINING COMPLETE!\")\n",
        "        print(\"=\"*60)\n",
        "\n",
        "        if 'test_accuracy' in locals():\n",
        "            print(f\"🎯 Final Test Accuracy: {test_accuracy:.2%}\")\n",
        "        if 'history' in locals():\n",
        "            print(f\"📈 Best Validation Accuracy: {max(history.history['val_accuracy']):.2%}\")\n",
        "            print(f\"⏱️  Training Epochs: {len(history.history['loss'])}\")\n",
        "\n",
        "        print(f\"💾 Model saved to: {results_dir}\")\n",
        "        print(f\"🔗 Access your files at: Google Drive/Datasets/final_shoplifting_model/\")\n",
        "        print(\"=\"*60)\n",
        "\n",
        "        return results_dir\n",
        "\n",
        "    else:\n",
        "        print(\"❌ No trained model found to save\")\n",
        "        return None"
      ],
      "metadata": {
        "id": "hOIe8_goEJiN"
      },
      "execution_count": 45,
      "outputs": []
    },
    {
      "cell_type": "code",
      "source": [
        "# Save everything to Google Drive\n",
        "final_model_dir = save_model_and_results_to_drive()"
      ],
      "metadata": {
        "colab": {
          "base_uri": "https://localhost:8080/",
          "height": 211
        },
        "id": "JEIBfPGgFLjQ",
        "outputId": "ef482558-2599-4648-85fd-11efe271ed3a"
      },
      "execution_count": 46,
      "outputs": [
        {
          "output_type": "stream",
          "name": "stdout",
          "text": [
            "💾 Model saved to Google Drive: /content/drive/MyDrive/Datasets/final_shoplifting_model/shoplifting_detection_model.keras\n",
            "🔧 Preprocessing components saved to Google Drive: /content/drive/MyDrive/Datasets/final_shoplifting_model/preprocessing_components.pkl\n"
          ]
        },
        {
          "output_type": "display_data",
          "data": {
            "text/plain": [],
            "text/html": [
              "<pre style=\"white-space:pre;overflow-x:auto;line-height:normal;font-family:Menlo,'DejaVu Sans Mono',consolas,'Courier New',monospace\"></pre>\n"
            ]
          },
          "metadata": {}
        },
        {
          "output_type": "stream",
          "name": "stdout",
          "text": [
            "📁 All files saved to Google Drive: /content/drive/MyDrive/Datasets/final_shoplifting_model\n",
            "\n",
            "============================================================\n",
            "🎉 MODEL TRAINING COMPLETE!\n",
            "============================================================\n",
            "💾 Model saved to: /content/drive/MyDrive/Datasets/final_shoplifting_model\n",
            "🔗 Access your files at: Google Drive/Datasets/final_shoplifting_model/\n",
            "============================================================\n"
          ]
        }
      ]
    },
    {
      "cell_type": "code",
      "source": [
        "if final_model_dir:\n",
        "    print(f\"\\n📋 NEXT STEPS:\")\n",
        "    print(\"1. Download the model files from Google Drive if needed\")\n",
        "    print(\"2. Use Section 13 to test predictions on new videos\")\n",
        "    print(\"3. The model is ready for deployment or further fine-tuning\")\n",
        "\n",
        "    # Display Google Drive file tree\n",
        "    print(f\"\\n📂 GOOGLE DRIVE FILE STRUCTURE:\")\n",
        "    try:\n",
        "        for root, dirs, files in os.walk(DATASETS_DIR):\n",
        "            level = root.replace(DATASETS_DIR, '').count(os.sep)\n",
        "            indent = ' ' * 2 * level\n",
        "            print(f\"{indent}{os.path.basename(root)}/\")\n",
        "            subindent = ' ' * 2 * (level + 1)\n",
        "            for file in files[:10]:  # Show first 10 files\n",
        "                print(f\"{subindent}{file}\")\n",
        "            if len(files) > 10:\n",
        "                print(f\"{subindent}... and {len(files)-10} more files\")\n",
        "    except:\n",
        "        pass"
      ],
      "metadata": {
        "colab": {
          "base_uri": "https://localhost:8080/"
        },
        "id": "refB99epFOKG",
        "outputId": "5b0c6c45-f718-4375-f699-d94a7ef83b35"
      },
      "execution_count": 47,
      "outputs": [
        {
          "output_type": "stream",
          "name": "stdout",
          "text": [
            "\n",
            "📋 NEXT STEPS:\n",
            "1. Download the model files from Google Drive if needed\n",
            "2. Use Section 13 to test predictions on new videos\n",
            "3. The model is ready for deployment or further fine-tuning\n",
            "\n",
            "📂 GOOGLE DRIVE FILE STRUCTURE:\n",
            "Datasets/\n",
            "  Shop DataSet.zip\n",
            "  dataset.csv\n",
            "  extracted_features.pkl\n",
            "  best_shoplifting_model.keras\n",
            "  training_history.png\n",
            "  confusion_matrix.png\n",
            "  Extracted Data/\n",
            "    Shop DataSet/\n",
            "      non shop lifters/\n",
            "        shop_lifter_n_0.mp4\n",
            "        shop_lifter_n_0_1.mp4\n",
            "        shop_lifter_n_1.mp4\n",
            "        shop_lifter_n_1_1.mp4\n",
            "        shop_lifter_n_10.mp4\n",
            "        shop_lifter_n_10_1.mp4\n",
            "        shop_lifter_n_100.mp4\n",
            "        shop_lifter_n_100_1.mp4\n",
            "        shop_lifter_n_101.mp4\n",
            "        shop_lifter_n_101_1.mp4\n",
            "        ... and 521 more files\n",
            "      shop lifters/\n",
            "        shop_lifter_0.mp4\n",
            "        shop_lifter_1.mp4\n",
            "        shop_lifter_10.mp4\n",
            "        shop_lifter_100.mp4\n",
            "        shop_lifter_101.mp4\n",
            "        shop_lifter_102.mp4\n",
            "        shop_lifter_103.mp4\n",
            "        shop_lifter_104.mp4\n",
            "        shop_lifter_105.mp4\n",
            "        shop_lifter_106.mp4\n",
            "        ... and 314 more files\n",
            "  final_shoplifting_model/\n",
            "    shoplifting_detection_model.keras\n",
            "    preprocessing_components.pkl\n",
            "    model_summary.txt\n",
            "    complete_results_summary.json\n",
            "    README.md\n"
          ]
        }
      ]
    }
  ]
}